{
 "cells": [
  {
   "cell_type": "markdown",
   "metadata": {},
   "source": [
    "# Quantitative Momentum Strategy\n",
    "\n",
    "\"Momentum investing\" means investing in the stocks that have increased in price the most.\n",
    "\n",
    "For this project, we're going to build an investing strategy that selects the 50 stocks with the highest price momentum. From there, we will calculate recommended trades for an equal-weight portfolio of these 50 stocks.\n",
    "\n",
    "\n",
    "## Library Imports\n",
    "\n",
    "The first thing we need to do is import the open-source software libraries that we'll be using in this tutorial."
   ]
  },
  {
   "cell_type": "code",
   "execution_count": 2,
   "metadata": {},
   "outputs": [],
   "source": [
    "import numpy as np \n",
    "import pandas as pd \n",
    "import requests\n",
    "import math\n",
    "from scipy import stats\n",
    "import xlsxwriter"
   ]
  },
  {
   "cell_type": "markdown",
   "metadata": {},
   "source": [
    "## Importing Our List of Stocks\n",
    "\n",
    "As before, we'll need to import our list of stocks and our API token before proceeding. Make sure the `.csv` file is still in your working directory and import it with the following command:"
   ]
  },
  {
   "cell_type": "code",
   "execution_count": 4,
   "metadata": {},
   "outputs": [],
   "source": [
    "stocks = pd.read_csv('sp_500_stocks.csv')\n",
    "from secrets import IEX_CLOUD_API_TOKEN"
   ]
  },
  {
   "cell_type": "markdown",
   "metadata": {},
   "source": [
    "## Making Our First API Call\n",
    "\n",
    "It's now time to make the first version of our momentum screener!\n",
    "\n",
    "We need to get one-year price returns for each stock in the universe. Here's how."
   ]
  },
  {
   "cell_type": "code",
   "execution_count": 5,
   "metadata": {},
   "outputs": [
    {
     "output_type": "execute_result",
     "data": {
      "text/plain": [
       "{'companyName': 'Apple Inc',\n",
       " 'marketcap': 2172213025275,\n",
       " 'week52high': 134.53,\n",
       " 'week52low': 56.44,\n",
       " 'week52change': 0.8587885799657174,\n",
       " 'sharesOutstanding': 17849457746,\n",
       " 'float': 0,\n",
       " 'avg10Volume': 114568049,\n",
       " 'avg30Volume': 103258152,\n",
       " 'day200MovingAvg': 112.1,\n",
       " 'day50MovingAvg': 124.47,\n",
       " 'employees': 0,\n",
       " 'ttmEPS': 3.32,\n",
       " 'ttmDividendRate': 0.8402540692575092,\n",
       " 'dividendYield': 0.006402261139739156,\n",
       " 'nextDividendDate': '0',\n",
       " 'exDividendDate': '2020-11-04',\n",
       " 'nextEarningsDate': '0',\n",
       " 'peRatio': 38.3388431888207,\n",
       " 'beta': 1.202423100370832,\n",
       " 'maxChangePercent': 49.05276078286977,\n",
       " 'year5ChangePercent': 4.252241009743939,\n",
       " 'year2ChangePercent': 2.1581524766489184,\n",
       " 'year1ChangePercent': 0.8516129012483735,\n",
       " 'ytdChangePercent': 0.746899531778262,\n",
       " 'month6ChangePercent': 0.4463808730705623,\n",
       " 'month3ChangePercent': 0.19405023233910723,\n",
       " 'month1ChangePercent': 0.07579682449475643,\n",
       " 'day30ChangePercent': 0.07454380429505716,\n",
       " 'day5ChangePercent': 0.03553699910016363}"
      ]
     },
     "metadata": {},
     "execution_count": 5
    }
   ],
   "source": [
    "symbol = 'AAPL'\n",
    "api_url = f'https://sandbox.iexapis.com/stable/stock/{symbol}/stats?token={IEX_CLOUD_API_TOKEN}'\n",
    "data = requests.get(api_url).json()\n",
    "data"
   ]
  },
  {
   "cell_type": "markdown",
   "metadata": {},
   "source": [
    "## Parsing Our API Call\n",
    "\n",
    "This API call has all the information we need. We can parse it using the same square-bracket notation as in the first project of this course. Here is an example."
   ]
  },
  {
   "cell_type": "code",
   "execution_count": 6,
   "metadata": {},
   "outputs": [
    {
     "output_type": "execute_result",
     "data": {
      "text/plain": [
       "0.8516129012483735"
      ]
     },
     "metadata": {},
     "execution_count": 6
    }
   ],
   "source": [
    "data['year1ChangePercent']"
   ]
  },
  {
   "cell_type": "markdown",
   "metadata": {},
   "source": [
    "## Executing A Batch API Call & Building Our DataFrame\n",
    "\n",
    "Just like in our first project, it's now time to execute several batch API calls and add the information we need to our DataFrame.\n",
    "\n",
    "We'll start by running the following code cell, which contains some code we already built last time that we can re-use for this project. More specifically, it contains a function called `chunks` that we can use to divide our list of securities into groups of 100."
   ]
  },
  {
   "cell_type": "code",
   "execution_count": 7,
   "metadata": {},
   "outputs": [
    {
     "output_type": "stream",
     "name": "stdout",
     "text": [
      "A,AAL,AAP,AAPL,ABBV,ABC,ABMD,ABT,ACN,ADBE,ADI,ADM,ADP,ADSK,AEE,AEP,AES,AFL,AIG,AIV,AIZ,AJG,AKAM,ALB,ALGN,ALK,ALL,ALLE,ALXN,AMAT,AMCR,AMD,AME,AMGN,AMP,AMT,AMZN,ANET,ANSS,ANTM,AON,AOS,APA,APD,APH,APTV,ARE,ATO,ATVI,AVB,AVGO,AVY,AWK,AXP,AZO,BA,BAC,BAX,BBY,BDX,BEN,BF.B,BIIB,BIO,BK,BKNG,BKR,BLK,BLL,BMY,BR,BRK.B,BSX,BWA,BXP,C,CAG,CAH,CARR,CAT,CB,CBOE,CBRE,CCI,CCL,CDNS,CDW,CE,CERN,CF,CFG,CHD,CHRW,CHTR,CI,CINF,CL,CLX,CMA,CMCSA\nCME,CMG,CMI,CMS,CNC,CNP,COF,COG,COO,COP,COST,COTY,CPB,CPRT,CRM,CSCO,CSX,CTAS,CTL,CTSH,CTVA,CTXS,CVS,CVX,CXO,D,DAL,DD,DE,DFS,DG,DGX,DHI,DHR,DIS,DISCA,DISCK,DISH,DLR,DLTR,DOV,DOW,DPZ,DRE,DRI,DTE,DUK,DVA,DVN,DXC,DXCM,EA,EBAY,ECL,ED,EFX,EIX,EL,EMN,EMR,EOG,EQIX,EQR,ES,ESS,ETFC,ETN,ETR,EVRG,EW,EXC,EXPD,EXPE,EXR,F,FANG,FAST,FB,FBHS,FCX,FDX,FE,FFIV,FIS,FISV,FITB,FLIR,FLS,FLT,FMC,FOX,FOXA,FRC,FRT,FTI,FTNT,FTV,GD,GE,GILD\nGIS,GL,GLW,GM,GOOG,GOOGL,GPC,GPN,GPS,GRMN,GS,GWW,HAL,HAS,HBAN,HBI,HCA,HD,HES,HFC,HIG,HII,HLT,HOLX,HON,HPE,HPQ,HRB,HRL,HSIC,HST,HSY,HUM,HWM,IBM,ICE,IDXX,IEX,IFF,ILMN,INCY,INFO,INTC,INTU,IP,IPG,IPGP,IQV,IR,IRM,ISRG,IT,ITW,IVZ,J,JBHT,JCI,JKHY,JNJ,JNPR,JPM,K,KEY,KEYS,KHC,KIM,KLAC,KMB,KMI,KMX,KO,KR,KSS,KSU,L,LB,LDOS,LEG,LEN,LH,LHX,LIN,LKQ,LLY,LMT,LNC,LNT,LOW,LRCX,LUV,LVS,LW,LYB,LYV,MA,MAA,MAR,MAS,MCD,MCHP\nMCK,MCO,MDLZ,MDT,MET,MGM,MHK,MKC,MKTX,MLM,MMC,MMM,MNST,MO,MOS,MPC,MRK,MRO,MS,MSCI,MSFT,MSI,MTB,MTD,MU,MXIM,MYL,NBL,NCLH,NDAQ,NEE,NEM,NFLX,NI,NKE,NLOK,NLSN,NOC,NOV,NOW,NRG,NSC,NTAP,NTRS,NUE,NVDA,NVR,NWL,NWS,NWSA,O,ODFL,OKE,OMC,ORCL,ORLY,OTIS,OXY,PAYC,PAYX,PBCT,PCAR,PEAK,PEG,PEP,PFE,PFG,PG,PGR,PH,PHM,PKG,PKI,PLD,PM,PNC,PNR,PNW,PPG,PPL,PRGO,PRU,PSA,PSX,PVH,PWR,PXD,PYPL,QCOM,QRVO,RCL,RE,REG,REGN,RF,RHI,RJF,RL,RMD,ROK\nROL,ROP,ROST,RSG,RTX,SBAC,SBUX,SCHW,SEE,SHW,SIVB,SJM,SLB,SLG,SNA,SNPS,SO,SPG,SPGI,SRE,STE,STT,STX,STZ,SWK,SWKS,SYF,SYK,SYY,T,TAP,TDG,TDY,TEL,TFC,TFX,TGT,TIF,TJX,TMO,TMUS,TPR,TROW,TRV,TSCO,TSN,TT,TTWO,TWTR,TXN,TXT,TYL,UA,UAA,UAL,UDR,UHS,ULTA,UNH,UNM,UNP,UPS,URI,USB,V,VAR,VFC,VIAC,VLO,VMC,VNO,VRSK,VRSN,VRTX,VTR,VZ,WAB,WAT,WBA,WDC,WEC,WELL,WFC,WHR,WLTW,WM,WMB,WMT,WRB,WRK,WST,WU,WY,WYNN,XEL,XLNX,XOM,XRAY,XRX,XYL\nYUM,ZBH,ZBRA,ZION,ZTS\n"
     ]
    }
   ],
   "source": [
    "# Function sourced from \n",
    "# https://stackoverflow.com/questions/312443/how-do-you-split-a-list-into-evenly-sized-chunks\n",
    "def chunks(lst, n):\n",
    "    \"\"\"Yield successive n-sized chunks from lst.\"\"\"\n",
    "    for i in range(0, len(lst), n):\n",
    "        yield lst[i:i + n]   \n",
    "        \n",
    "symbol_groups = list(chunks(stocks['Ticker'], 100))\n",
    "symbol_strings = []\n",
    "for i in range(0, len(symbol_groups)):\n",
    "    symbol_strings.append(','.join(symbol_groups[i]))\n",
    "#     print(symbol_strings[i])\n",
    "\n",
    "for symbol_string in symbol_strings:\n",
    "    print(symbol_string)\n",
    "\n",
    "my_columns = ['Ticker', 'Price', 'One-Year Price Return', 'Number of Shares to Buy']"
   ]
  },
  {
   "cell_type": "markdown",
   "metadata": {},
   "source": [
    "Now we need to create a blank DataFrame and add our data to the data frame one-by-one."
   ]
  },
  {
   "cell_type": "code",
   "execution_count": 9,
   "metadata": {},
   "outputs": [
    {
     "output_type": "execute_result",
     "data": {
      "text/plain": [
       "    Ticker    Price One-Year Price Return Number of Shares to Buy\n",
       "0        A  123.700              0.448671                     N/A\n",
       "1      AAL   16.510             -0.425867                     N/A\n",
       "2      AAP  162.710             0.0209975                     N/A\n",
       "3     AAPL  131.357              0.853988                     N/A\n",
       "4     ABBV  108.970              0.235902                     N/A\n",
       "..     ...      ...                   ...                     ...\n",
       "500    YUM  113.190               0.13328                     N/A\n",
       "501    ZBH  155.660              0.029308                     N/A\n",
       "502   ZBRA  380.000              0.476775                     N/A\n",
       "503   ZION   42.430             -0.174809                     N/A\n",
       "504    ZTS  166.710              0.308565                     N/A\n",
       "\n",
       "[505 rows x 4 columns]"
      ],
      "text/html": "<div>\n<style scoped>\n    .dataframe tbody tr th:only-of-type {\n        vertical-align: middle;\n    }\n\n    .dataframe tbody tr th {\n        vertical-align: top;\n    }\n\n    .dataframe thead th {\n        text-align: right;\n    }\n</style>\n<table border=\"1\" class=\"dataframe\">\n  <thead>\n    <tr style=\"text-align: right;\">\n      <th></th>\n      <th>Ticker</th>\n      <th>Price</th>\n      <th>One-Year Price Return</th>\n      <th>Number of Shares to Buy</th>\n    </tr>\n  </thead>\n  <tbody>\n    <tr>\n      <th>0</th>\n      <td>A</td>\n      <td>123.700</td>\n      <td>0.448671</td>\n      <td>N/A</td>\n    </tr>\n    <tr>\n      <th>1</th>\n      <td>AAL</td>\n      <td>16.510</td>\n      <td>-0.425867</td>\n      <td>N/A</td>\n    </tr>\n    <tr>\n      <th>2</th>\n      <td>AAP</td>\n      <td>162.710</td>\n      <td>0.0209975</td>\n      <td>N/A</td>\n    </tr>\n    <tr>\n      <th>3</th>\n      <td>AAPL</td>\n      <td>131.357</td>\n      <td>0.853988</td>\n      <td>N/A</td>\n    </tr>\n    <tr>\n      <th>4</th>\n      <td>ABBV</td>\n      <td>108.970</td>\n      <td>0.235902</td>\n      <td>N/A</td>\n    </tr>\n    <tr>\n      <th>...</th>\n      <td>...</td>\n      <td>...</td>\n      <td>...</td>\n      <td>...</td>\n    </tr>\n    <tr>\n      <th>500</th>\n      <td>YUM</td>\n      <td>113.190</td>\n      <td>0.13328</td>\n      <td>N/A</td>\n    </tr>\n    <tr>\n      <th>501</th>\n      <td>ZBH</td>\n      <td>155.660</td>\n      <td>0.029308</td>\n      <td>N/A</td>\n    </tr>\n    <tr>\n      <th>502</th>\n      <td>ZBRA</td>\n      <td>380.000</td>\n      <td>0.476775</td>\n      <td>N/A</td>\n    </tr>\n    <tr>\n      <th>503</th>\n      <td>ZION</td>\n      <td>42.430</td>\n      <td>-0.174809</td>\n      <td>N/A</td>\n    </tr>\n    <tr>\n      <th>504</th>\n      <td>ZTS</td>\n      <td>166.710</td>\n      <td>0.308565</td>\n      <td>N/A</td>\n    </tr>\n  </tbody>\n</table>\n<p>505 rows × 4 columns</p>\n</div>"
     },
     "metadata": {},
     "execution_count": 9
    }
   ],
   "source": [
    "final_dataframe = pd.DataFrame(columns = my_columns)\n",
    "\n",
    "for symbol_string in symbol_strings:\n",
    "    batch_api_call_url = f'https://sandbox.iexapis.com/stable/stock/market/batch/?types=stats,price&symbols={symbol_string}&token={IEX_CLOUD_API_TOKEN}'\n",
    "    data = requests.get(batch_api_call_url).json()\n",
    "\n",
    "    for symbol in symbol_string.split(','):\n",
    "        final_dataframe = final_dataframe.append(\n",
    "            pd.Series(\n",
    "                [\n",
    "                    symbol,\n",
    "                    data[symbol]['price'],\n",
    "                    data[symbol]['stats']['year1ChangePercent'],\n",
    "                    'N/A'\n",
    "                ],\n",
    "                index = my_columns\n",
    "            ),\n",
    "            ignore_index=True\n",
    "        )\n",
    "\n",
    "final_dataframe"
   ]
  },
  {
   "cell_type": "markdown",
   "metadata": {},
   "source": [
    "## Removing Low-Momentum Stocks\n",
    "\n",
    "The investment strategy that we're building seeks to identify the 50 highest-momentum stocks in the S&P 500.\n",
    "\n",
    "Because of this, the next thing we need to do is remove all the stocks in our DataFrame that fall below this momentum threshold. We'll sort the DataFrame by the stocks' one-year price return, and drop all stocks outside the top 50.\n"
   ]
  },
  {
   "cell_type": "code",
   "execution_count": 13,
   "metadata": {},
   "outputs": [
    {
     "output_type": "execute_result",
     "data": {
      "text/plain": [
       "     index Ticker    Price One-Year Price Return Number of Shares to Buy\n",
       "0       78   CARR   39.740                2.3327                     N/A\n",
       "1      345   NVDA  556.560                1.3671                     N/A\n",
       "2       31    AMD   98.830               1.27649                     N/A\n",
       "3      387   PYPL  239.910                1.2345                     N/A\n",
       "4      275     LB   40.370               1.15272                     N/A\n",
       "..     ...    ...      ...                   ...                     ...\n",
       "500    328   NCLH   25.270             -0.555067                     N/A\n",
       "501    118    CTL   11.000                  None                     N/A\n",
       "502    165   ETFC   51.680                  None                     N/A\n",
       "503    326    MYL   15.999                  None                     N/A\n",
       "504    327    NBL    8.590                  None                     N/A\n",
       "\n",
       "[505 rows x 5 columns]"
      ],
      "text/html": "<div>\n<style scoped>\n    .dataframe tbody tr th:only-of-type {\n        vertical-align: middle;\n    }\n\n    .dataframe tbody tr th {\n        vertical-align: top;\n    }\n\n    .dataframe thead th {\n        text-align: right;\n    }\n</style>\n<table border=\"1\" class=\"dataframe\">\n  <thead>\n    <tr style=\"text-align: right;\">\n      <th></th>\n      <th>index</th>\n      <th>Ticker</th>\n      <th>Price</th>\n      <th>One-Year Price Return</th>\n      <th>Number of Shares to Buy</th>\n    </tr>\n  </thead>\n  <tbody>\n    <tr>\n      <th>0</th>\n      <td>78</td>\n      <td>CARR</td>\n      <td>39.740</td>\n      <td>2.3327</td>\n      <td>N/A</td>\n    </tr>\n    <tr>\n      <th>1</th>\n      <td>345</td>\n      <td>NVDA</td>\n      <td>556.560</td>\n      <td>1.3671</td>\n      <td>N/A</td>\n    </tr>\n    <tr>\n      <th>2</th>\n      <td>31</td>\n      <td>AMD</td>\n      <td>98.830</td>\n      <td>1.27649</td>\n      <td>N/A</td>\n    </tr>\n    <tr>\n      <th>3</th>\n      <td>387</td>\n      <td>PYPL</td>\n      <td>239.910</td>\n      <td>1.2345</td>\n      <td>N/A</td>\n    </tr>\n    <tr>\n      <th>4</th>\n      <td>275</td>\n      <td>LB</td>\n      <td>40.370</td>\n      <td>1.15272</td>\n      <td>N/A</td>\n    </tr>\n    <tr>\n      <th>...</th>\n      <td>...</td>\n      <td>...</td>\n      <td>...</td>\n      <td>...</td>\n      <td>...</td>\n    </tr>\n    <tr>\n      <th>500</th>\n      <td>328</td>\n      <td>NCLH</td>\n      <td>25.270</td>\n      <td>-0.555067</td>\n      <td>N/A</td>\n    </tr>\n    <tr>\n      <th>501</th>\n      <td>118</td>\n      <td>CTL</td>\n      <td>11.000</td>\n      <td>None</td>\n      <td>N/A</td>\n    </tr>\n    <tr>\n      <th>502</th>\n      <td>165</td>\n      <td>ETFC</td>\n      <td>51.680</td>\n      <td>None</td>\n      <td>N/A</td>\n    </tr>\n    <tr>\n      <th>503</th>\n      <td>326</td>\n      <td>MYL</td>\n      <td>15.999</td>\n      <td>None</td>\n      <td>N/A</td>\n    </tr>\n    <tr>\n      <th>504</th>\n      <td>327</td>\n      <td>NBL</td>\n      <td>8.590</td>\n      <td>None</td>\n      <td>N/A</td>\n    </tr>\n  </tbody>\n</table>\n<p>505 rows × 5 columns</p>\n</div>"
     },
     "metadata": {},
     "execution_count": 13
    }
   ],
   "source": [
    "final_dataframe.sort_values('One-Year Price Return', ascending = False, inplace=True)\n",
    "final_dataframe[:50]\n",
    "final_dataframe.reset_index(inplace = True)\n",
    "final_dataframe"
   ]
  },
  {
   "cell_type": "markdown",
   "metadata": {},
   "source": [
    "## Calculating the Number of Shares to Buy\n",
    "\n",
    "Just like in the last project, we now need to calculate the number of shares we need to buy. The one change we're going to make is wrapping this functionality inside a function, since we'll be using it again later in this Jupyter Notebook.\n",
    "\n",
    "Since we've already done most of the work on this, try to complete the following two code cells without watching me do it first!"
   ]
  },
  {
   "cell_type": "code",
   "execution_count": null,
   "metadata": {},
   "outputs": [],
   "source": [
    "def portfolio_input():\n",
    "    global portfolio_size\n",
    "    portfolio_size = input('Enter the size of your portfolio: ')\n",
    "\n",
    "    try:\n",
    "        float(portfolio_size)\n",
    "    except:\n",
    "        print(\"That is not a number! \\n'Please try again: \")\n",
    "        portfolio_size = input('Enter the size of your portfolio: ')\n",
    "\n",
    "portfolio_input()\n",
    "print(portfolio_size)"
   ]
  },
  {
   "cell_type": "code",
   "execution_count": null,
   "metadata": {},
   "outputs": [],
   "source": []
  },
  {
   "cell_type": "markdown",
   "metadata": {},
   "source": [
    "## Building a Better (and More Realistic) Momentum Strategy\n",
    "\n",
    "Real-world quantitative investment firms differentiate between \"high quality\" and \"low quality\" momentum stocks:\n",
    "\n",
    "* High-quality momentum stocks show \"slow and steady\" outperformance over long periods of time\n",
    "* Low-quality momentum stocks might not show any momentum for a long time, and then surge upwards.\n",
    "\n",
    "The reason why high-quality momentum stocks are preferred is because low-quality momentum can often be cause by short-term news that is unlikely to be repeated in the future (such as an FDA approval for a biotechnology company).\n",
    "\n",
    "To identify high-quality momentum, we're going to build a strategy that selects stocks from the highest percentiles of: \n",
    "\n",
    "* 1-month price returns\n",
    "* 3-month price returns\n",
    "* 6-month price returns\n",
    "* 1-year price returns\n",
    "\n",
    "Let's start by building our DataFrame. You'll notice that I use the abbreviation `hqm` often. It stands for `high-quality momentum`."
   ]
  },
  {
   "cell_type": "code",
   "execution_count": null,
   "metadata": {},
   "outputs": [],
   "source": []
  },
  {
   "cell_type": "markdown",
   "metadata": {},
   "source": [
    "## Calculating Momentum Percentiles\n",
    "\n",
    "We now need to calculate momentum percentile scores for every stock in the universe. More specifically, we need to calculate percentile scores for the following metrics for every stock:\n",
    "\n",
    "* `One-Year Price Return`\n",
    "* `Six-Month Price Return`\n",
    "* `Three-Month Price Return`\n",
    "* `One-Month Price Return`\n",
    "\n",
    "Here's how we'll do this:"
   ]
  },
  {
   "cell_type": "code",
   "execution_count": null,
   "metadata": {},
   "outputs": [],
   "source": []
  },
  {
   "cell_type": "markdown",
   "metadata": {},
   "source": [
    "## Calculating the HQM Score\n",
    "\n",
    "We'll now calculate our `HQM Score`, which is the high-quality momentum score that we'll use to filter for stocks in this investing strategy.\n",
    "\n",
    "The `HQM Score` will be the arithmetic mean of the 4 momentum percentile scores that we calculated in the last section.\n",
    "\n",
    "To calculate arithmetic mean, we will use the `mean` function from Python's built-in `statistics` module."
   ]
  },
  {
   "cell_type": "code",
   "execution_count": null,
   "metadata": {},
   "outputs": [],
   "source": []
  },
  {
   "cell_type": "markdown",
   "metadata": {},
   "source": [
    "## Selecting the 50 Best Momentum Stocks\n",
    "\n",
    "As before, we can identify the 50 best momentum stocks in our universe by sorting the DataFrame on the `HQM Score` column and dropping all but the top 50 entries."
   ]
  },
  {
   "cell_type": "code",
   "execution_count": null,
   "metadata": {},
   "outputs": [],
   "source": []
  },
  {
   "cell_type": "markdown",
   "metadata": {},
   "source": [
    "## Calculating the Number of Shares to Buy\n",
    "\n",
    "We'll use the `portfolio_input` function that we created earlier to accept our portfolio size. Then we will use similar logic in a `for` loop to calculate the number of shares to buy for each stock in our investment universe."
   ]
  },
  {
   "cell_type": "code",
   "execution_count": null,
   "metadata": {},
   "outputs": [],
   "source": []
  },
  {
   "cell_type": "code",
   "execution_count": null,
   "metadata": {},
   "outputs": [],
   "source": []
  },
  {
   "cell_type": "markdown",
   "metadata": {},
   "source": [
    "## Formatting Our Excel Output\n",
    "\n",
    "We will be using the XlsxWriter library for Python to create nicely-formatted Excel files.\n",
    "\n",
    "XlsxWriter is an excellent package and offers tons of customization. However, the tradeoff for this is that the library can seem very complicated to new users. Accordingly, this section will be fairly long because I want to do a good job of explaining how XlsxWriter works."
   ]
  },
  {
   "cell_type": "code",
   "execution_count": null,
   "metadata": {},
   "outputs": [],
   "source": []
  },
  {
   "cell_type": "markdown",
   "metadata": {},
   "source": [
    "## Creating the Formats We'll Need For Our .xlsx File\n",
    "\n",
    "You'll recall from our first project that formats include colors, fonts, and also symbols like % and $. We'll need four main formats for our Excel document:\n",
    "\n",
    "* String format for tickers\n",
    "* \\$XX.XX format for stock prices\n",
    "* \\$XX,XXX format for market capitalization\n",
    "* Integer format for the number of shares to purchase\n",
    "\n",
    "Since we already built our formats in the last section of this course, I've included them below for you. Run this code cell before proceeding."
   ]
  },
  {
   "cell_type": "code",
   "execution_count": null,
   "metadata": {},
   "outputs": [],
   "source": [
    "background_color = '#0a0a23'\n",
    "font_color = '#ffffff'\n",
    "\n",
    "string_template = writer.book.add_format(\n",
    "        {\n",
    "            'font_color': font_color,\n",
    "            'bg_color': background_color,\n",
    "            'border': 1\n",
    "        }\n",
    "    )\n",
    "\n",
    "dollar_template = writer.book.add_format(\n",
    "        {\n",
    "            'num_format':'$0.00',\n",
    "            'font_color': font_color,\n",
    "            'bg_color': background_color,\n",
    "            'border': 1\n",
    "        }\n",
    "    )\n",
    "\n",
    "integer_template = writer.book.add_format(\n",
    "        {\n",
    "            'num_format':'0',\n",
    "            'font_color': font_color,\n",
    "            'bg_color': background_color,\n",
    "            'border': 1\n",
    "        }\n",
    "    )\n",
    "\n",
    "percent_template = writer.book.add_format(\n",
    "        {\n",
    "            'num_format':'0.0%',\n",
    "            'font_color': font_color,\n",
    "            'bg_color': background_color,\n",
    "            'border': 1\n",
    "        }\n",
    "    )"
   ]
  },
  {
   "cell_type": "code",
   "execution_count": null,
   "metadata": {},
   "outputs": [],
   "source": []
  },
  {
   "cell_type": "markdown",
   "metadata": {},
   "source": [
    "## Saving Our Excel Output\n",
    "\n",
    "As before, saving our Excel output is very easy:"
   ]
  },
  {
   "cell_type": "code",
   "execution_count": null,
   "metadata": {},
   "outputs": [],
   "source": []
  }
 ],
 "metadata": {
  "kernelspec": {
   "display_name": "Python 3",
   "language": "python",
   "name": "python3"
  },
  "language_info": {
   "codemirror_mode": {
    "name": "ipython",
    "version": 3
   },
   "file_extension": ".py",
   "mimetype": "text/x-python",
   "name": "python",
   "nbconvert_exporter": "python",
   "pygments_lexer": "ipython3",
   "version": "3.8.5-final"
  }
 },
 "nbformat": 4,
 "nbformat_minor": 4
}