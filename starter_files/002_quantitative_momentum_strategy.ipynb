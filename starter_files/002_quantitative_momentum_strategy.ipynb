{
 "cells": [
  {
   "cell_type": "markdown",
   "metadata": {},
   "source": [
    "# Quantitative Momentum Strategy\n",
    "\n",
    "\"Momentum investing\" means investing in the stocks that have increased in price the most.\n",
    "\n",
    "For this project, we're going to build an investing strategy that selects the 50 stocks with the highest price momentum. From there, we will calculate recommended trades for an equal-weight portfolio of these 50 stocks.\n",
    "\n",
    "\n",
    "## Library Imports\n",
    "\n",
    "The first thing we need to do is import the open-source software libraries that we'll be using in this tutorial."
   ]
  },
  {
   "cell_type": "code",
   "execution_count": 1,
   "metadata": {},
   "outputs": [],
   "source": [
    "import numpy as np \n",
    "import pandas as pd \n",
    "import requests\n",
    "import math\n",
    "from scipy import stats\n",
    "import xlsxwriter"
   ]
  },
  {
   "cell_type": "markdown",
   "metadata": {},
   "source": [
    "## Importing Our List of Stocks\n",
    "\n",
    "As before, we'll need to import our list of stocks and our API token before proceeding. Make sure the `.csv` file is still in your working directory and import it with the following command:"
   ]
  },
  {
   "cell_type": "code",
   "execution_count": 2,
   "metadata": {},
   "outputs": [],
   "source": [
    "stocks = pd.read_csv('sp_500_stocks.csv')\n",
    "from secrets import IEX_CLOUD_API_TOKEN"
   ]
  },
  {
   "cell_type": "markdown",
   "metadata": {},
   "source": [
    "## Making Our First API Call\n",
    "\n",
    "It's now time to make the first version of our momentum screener!\n",
    "\n",
    "We need to get one-year price returns for each stock in the universe. Here's how."
   ]
  },
  {
   "cell_type": "code",
   "execution_count": 3,
   "metadata": {},
   "outputs": [
    {
     "output_type": "execute_result",
     "data": {
      "text/plain": [
       "{'companyName': 'Apple Inc',\n",
       " 'marketcap': 2207968769098,\n",
       " 'week52high': 135.33,\n",
       " 'week52low': 57.99,\n",
       " 'week52change': 0.8672486140191357,\n",
       " 'sharesOutstanding': 17604345886,\n",
       " 'float': 0,\n",
       " 'avg10Volume': 122033091,\n",
       " 'avg30Volume': 108007918,\n",
       " 'day200MovingAvg': 111.89,\n",
       " 'day50MovingAvg': 120.63,\n",
       " 'employees': 0,\n",
       " 'ttmEPS': 3.42,\n",
       " 'ttmDividendRate': 0.8396745430706233,\n",
       " 'dividendYield': 0.006624100302570932,\n",
       " 'nextDividendDate': '0',\n",
       " 'exDividendDate': '2020-10-31',\n",
       " 'nextEarningsDate': '0',\n",
       " 'peRatio': 39.2710297382443,\n",
       " 'beta': 1.1865985331625808,\n",
       " 'maxChangePercent': 47.69341834638524,\n",
       " 'year5ChangePercent': 4.249854279220026,\n",
       " 'year2ChangePercent': 2.309613915422468,\n",
       " 'year1ChangePercent': 0.8557523281962673,\n",
       " 'ytdChangePercent': 0.74394227552501,\n",
       " 'month6ChangePercent': 0.455188310616849,\n",
       " 'month3ChangePercent': 0.19092040702853366,\n",
       " 'month1ChangePercent': 0.07026582379673683,\n",
       " 'day30ChangePercent': 0.06786351282690169,\n",
       " 'day5ChangePercent': 0.03578872270962929}"
      ]
     },
     "metadata": {},
     "execution_count": 3
    }
   ],
   "source": [
    "symbol = 'AAPL'\n",
    "api_url = f'https://sandbox.iexapis.com/stable/stock/{symbol}/stats?token={IEX_CLOUD_API_TOKEN}'\n",
    "data = requests.get(api_url).json()\n",
    "data"
   ]
  },
  {
   "cell_type": "markdown",
   "metadata": {},
   "source": [
    "## Parsing Our API Call\n",
    "\n",
    "This API call has all the information we need. We can parse it using the same square-bracket notation as in the first project of this course. Here is an example."
   ]
  },
  {
   "cell_type": "code",
   "execution_count": 4,
   "metadata": {},
   "outputs": [
    {
     "output_type": "execute_result",
     "data": {
      "text/plain": [
       "0.8557523281962673"
      ]
     },
     "metadata": {},
     "execution_count": 4
    }
   ],
   "source": [
    "data['year1ChangePercent']"
   ]
  },
  {
   "cell_type": "markdown",
   "metadata": {},
   "source": [
    "## Executing A Batch API Call & Building Our DataFrame\n",
    "\n",
    "Just like in our first project, it's now time to execute several batch API calls and add the information we need to our DataFrame.\n",
    "\n",
    "We'll start by running the following code cell, which contains some code we already built last time that we can re-use for this project. More specifically, it contains a function called `chunks` that we can use to divide our list of securities into groups of 100."
   ]
  },
  {
   "cell_type": "code",
   "execution_count": 5,
   "metadata": {},
   "outputs": [
    {
     "output_type": "stream",
     "name": "stdout",
     "text": [
      "A,AAL,AAP,AAPL,ABBV,ABC,ABMD,ABT,ACN,ADBE,ADI,ADM,ADP,ADSK,AEE,AEP,AES,AFL,AIG,AIV,AIZ,AJG,AKAM,ALB,ALGN,ALK,ALL,ALLE,ALXN,AMAT,AMCR,AMD,AME,AMGN,AMP,AMT,AMZN,ANET,ANSS,ANTM,AON,AOS,APA,APD,APH,APTV,ARE,ATO,ATVI,AVB,AVGO,AVY,AWK,AXP,AZO,BA,BAC,BAX,BBY,BDX,BEN,BF.B,BIIB,BIO,BK,BKNG,BKR,BLK,BLL,BMY,BR,BRK.B,BSX,BWA,BXP,C,CAG,CAH,CARR,CAT,CB,CBOE,CBRE,CCI,CCL,CDNS,CDW,CE,CERN,CF,CFG,CHD,CHRW,CHTR,CI,CINF,CL,CLX,CMA,CMCSA\nCME,CMG,CMI,CMS,CNC,CNP,COF,COG,COO,COP,COST,COTY,CPB,CPRT,CRM,CSCO,CSX,CTAS,CTL,CTSH,CTVA,CTXS,CVS,CVX,CXO,D,DAL,DD,DE,DFS,DG,DGX,DHI,DHR,DIS,DISCA,DISCK,DISH,DLR,DLTR,DOV,DOW,DPZ,DRE,DRI,DTE,DUK,DVA,DVN,DXC,DXCM,EA,EBAY,ECL,ED,EFX,EIX,EL,EMN,EMR,EOG,EQIX,EQR,ES,ESS,ETFC,ETN,ETR,EVRG,EW,EXC,EXPD,EXPE,EXR,F,FANG,FAST,FB,FBHS,FCX,FDX,FE,FFIV,FIS,FISV,FITB,FLIR,FLS,FLT,FMC,FOX,FOXA,FRC,FRT,FTI,FTNT,FTV,GD,GE,GILD\nGIS,GL,GLW,GM,GOOG,GOOGL,GPC,GPN,GPS,GRMN,GS,GWW,HAL,HAS,HBAN,HBI,HCA,HD,HES,HFC,HIG,HII,HLT,HOLX,HON,HPE,HPQ,HRB,HRL,HSIC,HST,HSY,HUM,HWM,IBM,ICE,IDXX,IEX,IFF,ILMN,INCY,INFO,INTC,INTU,IP,IPG,IPGP,IQV,IR,IRM,ISRG,IT,ITW,IVZ,J,JBHT,JCI,JKHY,JNJ,JNPR,JPM,K,KEY,KEYS,KHC,KIM,KLAC,KMB,KMI,KMX,KO,KR,KSS,KSU,L,LB,LDOS,LEG,LEN,LH,LHX,LIN,LKQ,LLY,LMT,LNC,LNT,LOW,LRCX,LUV,LVS,LW,LYB,LYV,MA,MAA,MAR,MAS,MCD,MCHP\nMCK,MCO,MDLZ,MDT,MET,MGM,MHK,MKC,MKTX,MLM,MMC,MMM,MNST,MO,MOS,MPC,MRK,MRO,MS,MSCI,MSFT,MSI,MTB,MTD,MU,MXIM,MYL,NBL,NCLH,NDAQ,NEE,NEM,NFLX,NI,NKE,NLOK,NLSN,NOC,NOV,NOW,NRG,NSC,NTAP,NTRS,NUE,NVDA,NVR,NWL,NWS,NWSA,O,ODFL,OKE,OMC,ORCL,ORLY,OTIS,OXY,PAYC,PAYX,PBCT,PCAR,PEAK,PEG,PEP,PFE,PFG,PG,PGR,PH,PHM,PKG,PKI,PLD,PM,PNC,PNR,PNW,PPG,PPL,PRGO,PRU,PSA,PSX,PVH,PWR,PXD,PYPL,QCOM,QRVO,RCL,RE,REG,REGN,RF,RHI,RJF,RL,RMD,ROK\nROL,ROP,ROST,RSG,RTX,SBAC,SBUX,SCHW,SEE,SHW,SIVB,SJM,SLB,SLG,SNA,SNPS,SO,SPG,SPGI,SRE,STE,STT,STX,STZ,SWK,SWKS,SYF,SYK,SYY,T,TAP,TDG,TDY,TEL,TFC,TFX,TGT,TIF,TJX,TMO,TMUS,TPR,TROW,TRV,TSCO,TSN,TT,TTWO,TWTR,TXN,TXT,TYL,UA,UAA,UAL,UDR,UHS,ULTA,UNH,UNM,UNP,UPS,URI,USB,V,VAR,VFC,VIAC,VLO,VMC,VNO,VRSK,VRSN,VRTX,VTR,VZ,WAB,WAT,WBA,WDC,WEC,WELL,WFC,WHR,WLTW,WM,WMB,WMT,WRB,WRK,WST,WU,WY,WYNN,XEL,XLNX,XOM,XRAY,XRX,XYL\nYUM,ZBH,ZBRA,ZION,ZTS\n"
     ]
    }
   ],
   "source": [
    "# Function sourced from \n",
    "# https://stackoverflow.com/questions/312443/how-do-you-split-a-list-into-evenly-sized-chunks\n",
    "def chunks(lst, n):\n",
    "    \"\"\"Yield successive n-sized chunks from lst.\"\"\"\n",
    "    for i in range(0, len(lst), n):\n",
    "        yield lst[i:i + n]   \n",
    "        \n",
    "symbol_groups = list(chunks(stocks['Ticker'], 100))\n",
    "symbol_strings = []\n",
    "for i in range(0, len(symbol_groups)):\n",
    "    symbol_strings.append(','.join(symbol_groups[i]))\n",
    "#     print(symbol_strings[i])\n",
    "\n",
    "for symbol_string in symbol_strings:\n",
    "    print(symbol_string)\n",
    "\n",
    "my_columns = ['Ticker', 'Price', 'One-Year Price Return', 'Number of Shares to Buy']"
   ]
  },
  {
   "cell_type": "markdown",
   "metadata": {},
   "source": [
    "Now we need to create a blank DataFrame and add our data to the data frame one-by-one."
   ]
  },
  {
   "cell_type": "code",
   "execution_count": 6,
   "metadata": {},
   "outputs": [
    {
     "output_type": "execute_result",
     "data": {
      "text/plain": [
       "    Ticker    Price One-Year Price Return Number of Shares to Buy\n",
       "0        A  123.500               0.42527                     N/A\n",
       "1      AAL   16.880             -0.433917                     N/A\n",
       "2      AAP  167.230             0.0313782                     N/A\n",
       "3     AAPL  127.529              0.836833                     N/A\n",
       "4     ABBV  107.190              0.252893                     N/A\n",
       "..     ...      ...                   ...                     ...\n",
       "500    YUM  113.460              0.126704                     N/A\n",
       "501    ZBH  157.070              0.029611                     N/A\n",
       "502   ZBRA  389.000              0.492513                     N/A\n",
       "503   ZION   42.190             -0.178698                     N/A\n",
       "504    ZTS  166.830              0.279284                     N/A\n",
       "\n",
       "[505 rows x 4 columns]"
      ],
      "text/html": "<div>\n<style scoped>\n    .dataframe tbody tr th:only-of-type {\n        vertical-align: middle;\n    }\n\n    .dataframe tbody tr th {\n        vertical-align: top;\n    }\n\n    .dataframe thead th {\n        text-align: right;\n    }\n</style>\n<table border=\"1\" class=\"dataframe\">\n  <thead>\n    <tr style=\"text-align: right;\">\n      <th></th>\n      <th>Ticker</th>\n      <th>Price</th>\n      <th>One-Year Price Return</th>\n      <th>Number of Shares to Buy</th>\n    </tr>\n  </thead>\n  <tbody>\n    <tr>\n      <th>0</th>\n      <td>A</td>\n      <td>123.500</td>\n      <td>0.42527</td>\n      <td>N/A</td>\n    </tr>\n    <tr>\n      <th>1</th>\n      <td>AAL</td>\n      <td>16.880</td>\n      <td>-0.433917</td>\n      <td>N/A</td>\n    </tr>\n    <tr>\n      <th>2</th>\n      <td>AAP</td>\n      <td>167.230</td>\n      <td>0.0313782</td>\n      <td>N/A</td>\n    </tr>\n    <tr>\n      <th>3</th>\n      <td>AAPL</td>\n      <td>127.529</td>\n      <td>0.836833</td>\n      <td>N/A</td>\n    </tr>\n    <tr>\n      <th>4</th>\n      <td>ABBV</td>\n      <td>107.190</td>\n      <td>0.252893</td>\n      <td>N/A</td>\n    </tr>\n    <tr>\n      <th>...</th>\n      <td>...</td>\n      <td>...</td>\n      <td>...</td>\n      <td>...</td>\n    </tr>\n    <tr>\n      <th>500</th>\n      <td>YUM</td>\n      <td>113.460</td>\n      <td>0.126704</td>\n      <td>N/A</td>\n    </tr>\n    <tr>\n      <th>501</th>\n      <td>ZBH</td>\n      <td>157.070</td>\n      <td>0.029611</td>\n      <td>N/A</td>\n    </tr>\n    <tr>\n      <th>502</th>\n      <td>ZBRA</td>\n      <td>389.000</td>\n      <td>0.492513</td>\n      <td>N/A</td>\n    </tr>\n    <tr>\n      <th>503</th>\n      <td>ZION</td>\n      <td>42.190</td>\n      <td>-0.178698</td>\n      <td>N/A</td>\n    </tr>\n    <tr>\n      <th>504</th>\n      <td>ZTS</td>\n      <td>166.830</td>\n      <td>0.279284</td>\n      <td>N/A</td>\n    </tr>\n  </tbody>\n</table>\n<p>505 rows × 4 columns</p>\n</div>"
     },
     "metadata": {},
     "execution_count": 6
    }
   ],
   "source": [
    "final_dataframe = pd.DataFrame(columns = my_columns)\n",
    "\n",
    "for symbol_string in symbol_strings:\n",
    "    batch_api_call_url = f'https://sandbox.iexapis.com/stable/stock/market/batch/?types=stats,price&symbols={symbol_string}&token={IEX_CLOUD_API_TOKEN}'\n",
    "    data = requests.get(batch_api_call_url).json()\n",
    "\n",
    "    for symbol in symbol_string.split(','):\n",
    "        final_dataframe = final_dataframe.append(\n",
    "            pd.Series(\n",
    "                [\n",
    "                    symbol,\n",
    "                    data[symbol]['price'],\n",
    "                    data[symbol]['stats']['year1ChangePercent'],\n",
    "                    'N/A'\n",
    "                ],\n",
    "                index = my_columns\n",
    "            ),\n",
    "            ignore_index=True\n",
    "        )\n",
    "\n",
    "final_dataframe"
   ]
  },
  {
   "cell_type": "markdown",
   "metadata": {},
   "source": [
    "## Removing Low-Momentum Stocks\n",
    "\n",
    "The investment strategy that we're building seeks to identify the 50 highest-momentum stocks in the S&P 500.\n",
    "\n",
    "Because of this, the next thing we need to do is remove all the stocks in our DataFrame that fall below this momentum threshold. We'll sort the DataFrame by the stocks' one-year price return, and drop all stocks outside the top 50.\n"
   ]
  },
  {
   "cell_type": "code",
   "execution_count": 7,
   "metadata": {},
   "outputs": [
    {
     "output_type": "execute_result",
     "data": {
      "text/plain": [
       "     index Ticker    Price One-Year Price Return Number of Shares to Buy\n",
       "0       78   CARR   39.600                2.2948                     N/A\n",
       "1      345   NVDA  545.650               1.32004                     N/A\n",
       "2       31    AMD   99.240               1.24326                     N/A\n",
       "3      387   PYPL  238.570               1.18502                     N/A\n",
       "4      275     LB   39.960               1.15246                     N/A\n",
       "..     ...    ...      ...                   ...                     ...\n",
       "500    328   NCLH   25.660             -0.546123                     N/A\n",
       "501    118    CTL   11.000                  None                     N/A\n",
       "502    165   ETFC   50.040                  None                     N/A\n",
       "503    326    MYL   15.885                  None                     N/A\n",
       "504    327    NBL    8.570                  None                     N/A\n",
       "\n",
       "[505 rows x 5 columns]"
      ],
      "text/html": "<div>\n<style scoped>\n    .dataframe tbody tr th:only-of-type {\n        vertical-align: middle;\n    }\n\n    .dataframe tbody tr th {\n        vertical-align: top;\n    }\n\n    .dataframe thead th {\n        text-align: right;\n    }\n</style>\n<table border=\"1\" class=\"dataframe\">\n  <thead>\n    <tr style=\"text-align: right;\">\n      <th></th>\n      <th>index</th>\n      <th>Ticker</th>\n      <th>Price</th>\n      <th>One-Year Price Return</th>\n      <th>Number of Shares to Buy</th>\n    </tr>\n  </thead>\n  <tbody>\n    <tr>\n      <th>0</th>\n      <td>78</td>\n      <td>CARR</td>\n      <td>39.600</td>\n      <td>2.2948</td>\n      <td>N/A</td>\n    </tr>\n    <tr>\n      <th>1</th>\n      <td>345</td>\n      <td>NVDA</td>\n      <td>545.650</td>\n      <td>1.32004</td>\n      <td>N/A</td>\n    </tr>\n    <tr>\n      <th>2</th>\n      <td>31</td>\n      <td>AMD</td>\n      <td>99.240</td>\n      <td>1.24326</td>\n      <td>N/A</td>\n    </tr>\n    <tr>\n      <th>3</th>\n      <td>387</td>\n      <td>PYPL</td>\n      <td>238.570</td>\n      <td>1.18502</td>\n      <td>N/A</td>\n    </tr>\n    <tr>\n      <th>4</th>\n      <td>275</td>\n      <td>LB</td>\n      <td>39.960</td>\n      <td>1.15246</td>\n      <td>N/A</td>\n    </tr>\n    <tr>\n      <th>...</th>\n      <td>...</td>\n      <td>...</td>\n      <td>...</td>\n      <td>...</td>\n      <td>...</td>\n    </tr>\n    <tr>\n      <th>500</th>\n      <td>328</td>\n      <td>NCLH</td>\n      <td>25.660</td>\n      <td>-0.546123</td>\n      <td>N/A</td>\n    </tr>\n    <tr>\n      <th>501</th>\n      <td>118</td>\n      <td>CTL</td>\n      <td>11.000</td>\n      <td>None</td>\n      <td>N/A</td>\n    </tr>\n    <tr>\n      <th>502</th>\n      <td>165</td>\n      <td>ETFC</td>\n      <td>50.040</td>\n      <td>None</td>\n      <td>N/A</td>\n    </tr>\n    <tr>\n      <th>503</th>\n      <td>326</td>\n      <td>MYL</td>\n      <td>15.885</td>\n      <td>None</td>\n      <td>N/A</td>\n    </tr>\n    <tr>\n      <th>504</th>\n      <td>327</td>\n      <td>NBL</td>\n      <td>8.570</td>\n      <td>None</td>\n      <td>N/A</td>\n    </tr>\n  </tbody>\n</table>\n<p>505 rows × 5 columns</p>\n</div>"
     },
     "metadata": {},
     "execution_count": 7
    }
   ],
   "source": [
    "final_dataframe.sort_values('One-Year Price Return', ascending = False, inplace=True)\n",
    "final_dataframe[:50]\n",
    "final_dataframe.reset_index(inplace = True)\n",
    "final_dataframe"
   ]
  },
  {
   "cell_type": "markdown",
   "metadata": {},
   "source": [
    "## Calculating the Number of Shares to Buy\n",
    "\n",
    "Just like in the last project, we now need to calculate the number of shares we need to buy. The one change we're going to make is wrapping this functionality inside a function, since we'll be using it again later in this Jupyter Notebook.\n",
    "\n",
    "Since we've already done most of the work on this, try to complete the following two code cells without watching me do it first!"
   ]
  },
  {
   "cell_type": "code",
   "execution_count": 8,
   "metadata": {},
   "outputs": [
    {
     "output_type": "stream",
     "name": "stdout",
     "text": [
      "1000000\n"
     ]
    }
   ],
   "source": [
    "def portfolio_input():\n",
    "    global portfolio_size\n",
    "    portfolio_size = input('Enter the size of your portfolio: ')\n",
    "\n",
    "    try:\n",
    "        float(portfolio_size)\n",
    "    except:\n",
    "        print(\"That is not a number! \\n'Please try again: \")\n",
    "        portfolio_size = input('Enter the size of your portfolio: ')\n",
    "\n",
    "portfolio_input()\n",
    "print(portfolio_size)"
   ]
  },
  {
   "cell_type": "code",
   "execution_count": 16,
   "metadata": {},
   "outputs": [
    {
     "output_type": "execute_result",
     "data": {
      "text/plain": [
       "     index Ticker   Price One-Year Price Return Number of Shares to Buy\n",
       "0       78   CARR   38.93                2.3027                      50\n",
       "1      345   NVDA  551.35               1.29739                       3\n",
       "2       31    AMD   100.5               1.27513                      19\n",
       "3      387   PYPL  248.21               1.18693                       7\n",
       "4      275     LB   39.21               1.17146                      50\n",
       "..     ...    ...     ...                   ...                     ...\n",
       "500    328   NCLH   25.67              -0.56517                      77\n",
       "501    118    CTL      11                  None                     180\n",
       "502    165   ETFC   49.94                  None                      39\n",
       "503    326    MYL    15.9                  None                     124\n",
       "504    327    NBL    8.79                  None                     225\n",
       "\n",
       "[505 rows x 5 columns]"
      ],
      "text/html": "<div>\n<style scoped>\n    .dataframe tbody tr th:only-of-type {\n        vertical-align: middle;\n    }\n\n    .dataframe tbody tr th {\n        vertical-align: top;\n    }\n\n    .dataframe thead th {\n        text-align: right;\n    }\n</style>\n<table border=\"1\" class=\"dataframe\">\n  <thead>\n    <tr style=\"text-align: right;\">\n      <th></th>\n      <th>index</th>\n      <th>Ticker</th>\n      <th>Price</th>\n      <th>One-Year Price Return</th>\n      <th>Number of Shares to Buy</th>\n    </tr>\n  </thead>\n  <tbody>\n    <tr>\n      <th>0</th>\n      <td>78</td>\n      <td>CARR</td>\n      <td>38.93</td>\n      <td>2.3027</td>\n      <td>50</td>\n    </tr>\n    <tr>\n      <th>1</th>\n      <td>345</td>\n      <td>NVDA</td>\n      <td>551.35</td>\n      <td>1.29739</td>\n      <td>3</td>\n    </tr>\n    <tr>\n      <th>2</th>\n      <td>31</td>\n      <td>AMD</td>\n      <td>100.5</td>\n      <td>1.27513</td>\n      <td>19</td>\n    </tr>\n    <tr>\n      <th>3</th>\n      <td>387</td>\n      <td>PYPL</td>\n      <td>248.21</td>\n      <td>1.18693</td>\n      <td>7</td>\n    </tr>\n    <tr>\n      <th>4</th>\n      <td>275</td>\n      <td>LB</td>\n      <td>39.21</td>\n      <td>1.17146</td>\n      <td>50</td>\n    </tr>\n    <tr>\n      <th>...</th>\n      <td>...</td>\n      <td>...</td>\n      <td>...</td>\n      <td>...</td>\n      <td>...</td>\n    </tr>\n    <tr>\n      <th>500</th>\n      <td>328</td>\n      <td>NCLH</td>\n      <td>25.67</td>\n      <td>-0.56517</td>\n      <td>77</td>\n    </tr>\n    <tr>\n      <th>501</th>\n      <td>118</td>\n      <td>CTL</td>\n      <td>11</td>\n      <td>None</td>\n      <td>180</td>\n    </tr>\n    <tr>\n      <th>502</th>\n      <td>165</td>\n      <td>ETFC</td>\n      <td>49.94</td>\n      <td>None</td>\n      <td>39</td>\n    </tr>\n    <tr>\n      <th>503</th>\n      <td>326</td>\n      <td>MYL</td>\n      <td>15.9</td>\n      <td>None</td>\n      <td>124</td>\n    </tr>\n    <tr>\n      <th>504</th>\n      <td>327</td>\n      <td>NBL</td>\n      <td>8.79</td>\n      <td>None</td>\n      <td>225</td>\n    </tr>\n  </tbody>\n</table>\n<p>505 rows × 5 columns</p>\n</div>"
     },
     "metadata": {},
     "execution_count": 16
    }
   ],
   "source": [
    "position_size = float(portfolio_size)/len(final_dataframe.index)\n",
    "for i in range(0, len(final_dataframe)):\n",
    "    final_dataframe.loc[i, 'Number of Shares to Buy'] = math.floor(position_size/final_dataframe.loc[i, 'Price'])\n",
    "\n",
    "final_dataframe"
   ]
  },
  {
   "cell_type": "markdown",
   "metadata": {},
   "source": [
    "## Building a Better (and More Realistic) Momentum Strategy\n",
    "\n",
    "Real-world quantitative investment firms differentiate between \"high quality\" and \"low quality\" momentum stocks:\n",
    "\n",
    "* High-quality momentum stocks show \"slow and steady\" outperformance over long periods of time\n",
    "* Low-quality momentum stocks might not show any momentum for a long time, and then surge upwards.\n",
    "\n",
    "The reason why high-quality momentum stocks are preferred is because low-quality momentum can often be cause by short-term news that is unlikely to be repeated in the future (such as an FDA approval for a biotechnology company).\n",
    "\n",
    "To identify high-quality momentum, we're going to build a strategy that selects stocks from the highest percentiles of: \n",
    "\n",
    "* 1-month price returns\n",
    "* 3-month price returns\n",
    "* 6-month price returns\n",
    "* 1-year price returns\n",
    "\n",
    "Let's start by building our DataFrame. You'll notice that I use the abbreviation `hqm` often. It stands for `high-quality momentum`."
   ]
  },
  {
   "cell_type": "code",
   "execution_count": 9,
   "metadata": {},
   "outputs": [
    {
     "output_type": "execute_result",
     "data": {
      "text/plain": [
       "Index(['Ticker', 'Price', 'Number of Shares to Buy', 'One-Year Price Return',\n",
       "       'One-Year Return Percentile', 'Six-Month Price Return',\n",
       "       'Six-Month Return Percentile', 'Three-Month Price Return',\n",
       "       'Three-Month Return Percentile', 'One-Month Price Return',\n",
       "       'One-Month Return Percentile', 'HQM Score'],\n",
       "      dtype='object')"
      ]
     },
     "metadata": {},
     "execution_count": 9
    }
   ],
   "source": [
    "hqm_columns = [\n",
    "    'Ticker',\n",
    "    'Price',\n",
    "    'Number of Shares to Buy',\n",
    "    'One-Year Price Return',\n",
    "    'One-Year Return Percentile',\n",
    "    'Six-Month Price Return',\n",
    "    'Six-Month Return Percentile',\n",
    "    'Three-Month Price Return',\n",
    "    'Three-Month Return Percentile',\n",
    "    'One-Month Price Return',\n",
    "    'One-Month Return Percentile',\n",
    "    'HQM Score'\n",
    "    ]\n",
    "\n",
    "hqm_dataframe = pd.DataFrame(columns = hqm_columns)\n",
    "\n",
    "for symbol_string in symbol_strings:\n",
    "    batch_api_call_url = f'https://sandbox.iexapis.com/stable/stock/market/batch/?types=stats,price&symbols={symbol_string}&token={IEX_CLOUD_API_TOKEN}'\n",
    "    data = requests.get(batch_api_call_url).json()\n",
    "\n",
    "    for symbol in symbol_string.split(','):\n",
    "        hqm_dataframe = hqm_dataframe.append(\n",
    "            pd.Series(\n",
    "                [\n",
    "                    symbol,\n",
    "                    data[symbol]['price'],\n",
    "                    'N/A',\n",
    "                    data[symbol]['stats']['year1ChangePercent'],\n",
    "                    'N/A',\n",
    "                    data[symbol]['stats']['month6ChangePercent'],\n",
    "                    'N/A',\n",
    "                    data[symbol]['stats']['month3ChangePercent'],\n",
    "                    'N/A',\n",
    "                    data[symbol]['stats']['month1ChangePercent'],\n",
    "                    'N/A',\n",
    "                    'N/A'\n",
    "                ],\n",
    "                index= hqm_columns\n",
    "            ),\n",
    "            ignore_index = True\n",
    "        )\n",
    "    \n",
    "hqm_dataframe.columns"
   ]
  },
  {
   "cell_type": "markdown",
   "metadata": {},
   "source": [
    "## Calculating Momentum Percentiles\n",
    "\n",
    "We now need to calculate momentum percentile scores for every stock in the universe. More specifically, we need to calculate percentile scores for the following metrics for every stock:\n",
    "\n",
    "* `One-Year Price Return`\n",
    "* `Six-Month Price Return`\n",
    "* `Three-Month Price Return`\n",
    "* `One-Month Price Return`\n",
    "\n",
    "Here's how we'll do this:"
   ]
  },
  {
   "cell_type": "code",
   "execution_count": 10,
   "metadata": {},
   "outputs": [
    {
     "output_type": "execute_result",
     "data": {
      "text/plain": [
       "    Ticker    Price Number of Shares to Buy One-Year Price Return  \\\n",
       "0        A  119.400                     N/A              0.434254   \n",
       "1      AAL   16.590                     N/A             -0.429068   \n",
       "2      AAP  162.100                     N/A             0.0312817   \n",
       "3     AAPL  128.193                     N/A              0.832267   \n",
       "4     ABBV  105.130                     N/A              0.242231   \n",
       "..     ...      ...                     ...                   ...   \n",
       "500    YUM  110.100                     N/A              0.125092   \n",
       "501    ZBH  153.400                     N/A             0.0290649   \n",
       "502   ZBRA  379.000                     N/A              0.491694   \n",
       "503   ZION   41.820                     N/A             -0.173166   \n",
       "504    ZTS  168.000                     N/A              0.280834   \n",
       "\n",
       "    One-Year Return Percentile Six-Month Price Return  \\\n",
       "0                     0.877228               0.358017   \n",
       "1                    0.0257426              0.0324183   \n",
       "2                     0.427723               0.108424   \n",
       "3                     0.970297               0.459108   \n",
       "4                     0.712871               0.113291   \n",
       "..                         ...                    ...   \n",
       "500                   0.556436               0.260835   \n",
       "501                   0.425743               0.213124   \n",
       "502                   0.906931                 0.4311   \n",
       "503                   0.150495               0.160576   \n",
       "504                   0.768317               0.196355   \n",
       "\n",
       "    Six-Month Return Percentile Three-Month Price Return  \\\n",
       "0                      0.740594                  0.20654   \n",
       "1                      0.148515                 0.252832   \n",
       "2                      0.289109                0.0433163   \n",
       "3                      0.861386                 0.187845   \n",
       "4                      0.293069                  0.17931   \n",
       "..                          ...                      ...   \n",
       "500                     0.59802                  0.20127   \n",
       "501                    0.491089                0.0990707   \n",
       "502                    0.827723                  0.46944   \n",
       "503                    0.372277                 0.319579   \n",
       "504                    0.443564                0.0186694   \n",
       "\n",
       "    Three-Month Return Percentile One-Month Price Return  \\\n",
       "0                        0.677228               0.101368   \n",
       "1                        0.772277                0.29854   \n",
       "2                        0.221782              0.0982118   \n",
       "3                        0.633663              0.0688552   \n",
       "4                        0.605941              0.0489911   \n",
       "..                            ...                    ...   \n",
       "500                      0.659406              0.0494675   \n",
       "501                      0.368317              0.0377896   \n",
       "502                      0.956436              0.0424493   \n",
       "503                      0.869307              0.0721002   \n",
       "504                      0.174257             -0.0168095   \n",
       "\n",
       "    One-Month Return Percentile HQM Score  \n",
       "0                      0.819802       N/A  \n",
       "1                      0.994059       N/A  \n",
       "2                      0.809901       N/A  \n",
       "3                      0.689109       N/A  \n",
       "4                           0.6       N/A  \n",
       "..                          ...       ...  \n",
       "500                     0.60396       N/A  \n",
       "501                    0.524752       N/A  \n",
       "502                    0.556436       N/A  \n",
       "503                    0.710891       N/A  \n",
       "504                    0.180198       N/A  \n",
       "\n",
       "[505 rows x 12 columns]"
      ],
      "text/html": "<div>\n<style scoped>\n    .dataframe tbody tr th:only-of-type {\n        vertical-align: middle;\n    }\n\n    .dataframe tbody tr th {\n        vertical-align: top;\n    }\n\n    .dataframe thead th {\n        text-align: right;\n    }\n</style>\n<table border=\"1\" class=\"dataframe\">\n  <thead>\n    <tr style=\"text-align: right;\">\n      <th></th>\n      <th>Ticker</th>\n      <th>Price</th>\n      <th>Number of Shares to Buy</th>\n      <th>One-Year Price Return</th>\n      <th>One-Year Return Percentile</th>\n      <th>Six-Month Price Return</th>\n      <th>Six-Month Return Percentile</th>\n      <th>Three-Month Price Return</th>\n      <th>Three-Month Return Percentile</th>\n      <th>One-Month Price Return</th>\n      <th>One-Month Return Percentile</th>\n      <th>HQM Score</th>\n    </tr>\n  </thead>\n  <tbody>\n    <tr>\n      <th>0</th>\n      <td>A</td>\n      <td>119.400</td>\n      <td>N/A</td>\n      <td>0.434254</td>\n      <td>0.877228</td>\n      <td>0.358017</td>\n      <td>0.740594</td>\n      <td>0.20654</td>\n      <td>0.677228</td>\n      <td>0.101368</td>\n      <td>0.819802</td>\n      <td>N/A</td>\n    </tr>\n    <tr>\n      <th>1</th>\n      <td>AAL</td>\n      <td>16.590</td>\n      <td>N/A</td>\n      <td>-0.429068</td>\n      <td>0.0257426</td>\n      <td>0.0324183</td>\n      <td>0.148515</td>\n      <td>0.252832</td>\n      <td>0.772277</td>\n      <td>0.29854</td>\n      <td>0.994059</td>\n      <td>N/A</td>\n    </tr>\n    <tr>\n      <th>2</th>\n      <td>AAP</td>\n      <td>162.100</td>\n      <td>N/A</td>\n      <td>0.0312817</td>\n      <td>0.427723</td>\n      <td>0.108424</td>\n      <td>0.289109</td>\n      <td>0.0433163</td>\n      <td>0.221782</td>\n      <td>0.0982118</td>\n      <td>0.809901</td>\n      <td>N/A</td>\n    </tr>\n    <tr>\n      <th>3</th>\n      <td>AAPL</td>\n      <td>128.193</td>\n      <td>N/A</td>\n      <td>0.832267</td>\n      <td>0.970297</td>\n      <td>0.459108</td>\n      <td>0.861386</td>\n      <td>0.187845</td>\n      <td>0.633663</td>\n      <td>0.0688552</td>\n      <td>0.689109</td>\n      <td>N/A</td>\n    </tr>\n    <tr>\n      <th>4</th>\n      <td>ABBV</td>\n      <td>105.130</td>\n      <td>N/A</td>\n      <td>0.242231</td>\n      <td>0.712871</td>\n      <td>0.113291</td>\n      <td>0.293069</td>\n      <td>0.17931</td>\n      <td>0.605941</td>\n      <td>0.0489911</td>\n      <td>0.6</td>\n      <td>N/A</td>\n    </tr>\n    <tr>\n      <th>...</th>\n      <td>...</td>\n      <td>...</td>\n      <td>...</td>\n      <td>...</td>\n      <td>...</td>\n      <td>...</td>\n      <td>...</td>\n      <td>...</td>\n      <td>...</td>\n      <td>...</td>\n      <td>...</td>\n      <td>...</td>\n    </tr>\n    <tr>\n      <th>500</th>\n      <td>YUM</td>\n      <td>110.100</td>\n      <td>N/A</td>\n      <td>0.125092</td>\n      <td>0.556436</td>\n      <td>0.260835</td>\n      <td>0.59802</td>\n      <td>0.20127</td>\n      <td>0.659406</td>\n      <td>0.0494675</td>\n      <td>0.60396</td>\n      <td>N/A</td>\n    </tr>\n    <tr>\n      <th>501</th>\n      <td>ZBH</td>\n      <td>153.400</td>\n      <td>N/A</td>\n      <td>0.0290649</td>\n      <td>0.425743</td>\n      <td>0.213124</td>\n      <td>0.491089</td>\n      <td>0.0990707</td>\n      <td>0.368317</td>\n      <td>0.0377896</td>\n      <td>0.524752</td>\n      <td>N/A</td>\n    </tr>\n    <tr>\n      <th>502</th>\n      <td>ZBRA</td>\n      <td>379.000</td>\n      <td>N/A</td>\n      <td>0.491694</td>\n      <td>0.906931</td>\n      <td>0.4311</td>\n      <td>0.827723</td>\n      <td>0.46944</td>\n      <td>0.956436</td>\n      <td>0.0424493</td>\n      <td>0.556436</td>\n      <td>N/A</td>\n    </tr>\n    <tr>\n      <th>503</th>\n      <td>ZION</td>\n      <td>41.820</td>\n      <td>N/A</td>\n      <td>-0.173166</td>\n      <td>0.150495</td>\n      <td>0.160576</td>\n      <td>0.372277</td>\n      <td>0.319579</td>\n      <td>0.869307</td>\n      <td>0.0721002</td>\n      <td>0.710891</td>\n      <td>N/A</td>\n    </tr>\n    <tr>\n      <th>504</th>\n      <td>ZTS</td>\n      <td>168.000</td>\n      <td>N/A</td>\n      <td>0.280834</td>\n      <td>0.768317</td>\n      <td>0.196355</td>\n      <td>0.443564</td>\n      <td>0.0186694</td>\n      <td>0.174257</td>\n      <td>-0.0168095</td>\n      <td>0.180198</td>\n      <td>N/A</td>\n    </tr>\n  </tbody>\n</table>\n<p>505 rows × 12 columns</p>\n</div>"
     },
     "metadata": {},
     "execution_count": 10
    }
   ],
   "source": [
    "time_periods = [\n",
    "                'One-Year',\n",
    "                'Six-Month',\n",
    "                'Three-Month',\n",
    "                'One-Month'\n",
    "                ]\n",
    "for row in hqm_dataframe.index:\n",
    "    for time_period in time_periods:\n",
    "        if hqm_dataframe.loc[row, f'{time_period} Price Return'] == None:\n",
    "            hqm_dataframe.loc[row, f'{time_period} Price Return'] = 0.0\n",
    "\n",
    "for row in hqm_dataframe.index:\n",
    "    for time_period in time_periods:\n",
    "        \n",
    "        hqm_dataframe.loc[row, f'{time_period} Return Percentile'] = stats.percentileofscore(hqm_dataframe[f'{time_period} Price Return'], hqm_dataframe.loc[row, f'{time_period} Price Return'])/100\n",
    "\n",
    "hqm_dataframe"
   ]
  },
  {
   "cell_type": "markdown",
   "metadata": {},
   "source": [
    "## Calculating the HQM Score\n",
    "\n",
    "We'll now calculate our `HQM Score`, which is the high-quality momentum score that we'll use to filter for stocks in this investing strategy.\n",
    "\n",
    "The `HQM Score` will be the arithmetic mean of the 4 momentum percentile scores that we calculated in the last section.\n",
    "\n",
    "To calculate arithmetic mean, we will use the `mean` function from Python's built-in `statistics` module."
   ]
  },
  {
   "cell_type": "code",
   "execution_count": 11,
   "metadata": {
    "tags": []
   },
   "outputs": [
    {
     "output_type": "execute_result",
     "data": {
      "text/plain": [
       "    Ticker    Price Number of Shares to Buy One-Year Price Return  \\\n",
       "0        A  119.400                     N/A              0.434254   \n",
       "1      AAL   16.590                     N/A             -0.429068   \n",
       "2      AAP  162.100                     N/A             0.0312817   \n",
       "3     AAPL  128.193                     N/A              0.832267   \n",
       "4     ABBV  105.130                     N/A              0.242231   \n",
       "..     ...      ...                     ...                   ...   \n",
       "500    YUM  110.100                     N/A              0.125092   \n",
       "501    ZBH  153.400                     N/A             0.0290649   \n",
       "502   ZBRA  379.000                     N/A              0.491694   \n",
       "503   ZION   41.820                     N/A             -0.173166   \n",
       "504    ZTS  168.000                     N/A              0.280834   \n",
       "\n",
       "    One-Year Return Percentile Six-Month Price Return  \\\n",
       "0                     0.877228               0.358017   \n",
       "1                    0.0257426              0.0324183   \n",
       "2                     0.427723               0.108424   \n",
       "3                     0.970297               0.459108   \n",
       "4                     0.712871               0.113291   \n",
       "..                         ...                    ...   \n",
       "500                   0.556436               0.260835   \n",
       "501                   0.425743               0.213124   \n",
       "502                   0.906931                 0.4311   \n",
       "503                   0.150495               0.160576   \n",
       "504                   0.768317               0.196355   \n",
       "\n",
       "    Six-Month Return Percentile Three-Month Price Return  \\\n",
       "0                      0.740594                  0.20654   \n",
       "1                      0.148515                 0.252832   \n",
       "2                      0.289109                0.0433163   \n",
       "3                      0.861386                 0.187845   \n",
       "4                      0.293069                  0.17931   \n",
       "..                          ...                      ...   \n",
       "500                     0.59802                  0.20127   \n",
       "501                    0.491089                0.0990707   \n",
       "502                    0.827723                  0.46944   \n",
       "503                    0.372277                 0.319579   \n",
       "504                    0.443564                0.0186694   \n",
       "\n",
       "    Three-Month Return Percentile One-Month Price Return  \\\n",
       "0                        0.677228               0.101368   \n",
       "1                        0.772277                0.29854   \n",
       "2                        0.221782              0.0982118   \n",
       "3                        0.633663              0.0688552   \n",
       "4                        0.605941              0.0489911   \n",
       "..                            ...                    ...   \n",
       "500                      0.659406              0.0494675   \n",
       "501                      0.368317              0.0377896   \n",
       "502                      0.956436              0.0424493   \n",
       "503                      0.869307              0.0721002   \n",
       "504                      0.174257             -0.0168095   \n",
       "\n",
       "    One-Month Return Percentile HQM Score  \n",
       "0                      0.819802  0.778713  \n",
       "1                      0.994059  0.485149  \n",
       "2                      0.809901  0.437129  \n",
       "3                      0.689109  0.788614  \n",
       "4                           0.6   0.55297  \n",
       "..                          ...       ...  \n",
       "500                     0.60396  0.604455  \n",
       "501                    0.524752  0.452475  \n",
       "502                    0.556436  0.811881  \n",
       "503                    0.710891  0.525743  \n",
       "504                    0.180198  0.391584  \n",
       "\n",
       "[505 rows x 12 columns]"
      ],
      "text/html": "<div>\n<style scoped>\n    .dataframe tbody tr th:only-of-type {\n        vertical-align: middle;\n    }\n\n    .dataframe tbody tr th {\n        vertical-align: top;\n    }\n\n    .dataframe thead th {\n        text-align: right;\n    }\n</style>\n<table border=\"1\" class=\"dataframe\">\n  <thead>\n    <tr style=\"text-align: right;\">\n      <th></th>\n      <th>Ticker</th>\n      <th>Price</th>\n      <th>Number of Shares to Buy</th>\n      <th>One-Year Price Return</th>\n      <th>One-Year Return Percentile</th>\n      <th>Six-Month Price Return</th>\n      <th>Six-Month Return Percentile</th>\n      <th>Three-Month Price Return</th>\n      <th>Three-Month Return Percentile</th>\n      <th>One-Month Price Return</th>\n      <th>One-Month Return Percentile</th>\n      <th>HQM Score</th>\n    </tr>\n  </thead>\n  <tbody>\n    <tr>\n      <th>0</th>\n      <td>A</td>\n      <td>119.400</td>\n      <td>N/A</td>\n      <td>0.434254</td>\n      <td>0.877228</td>\n      <td>0.358017</td>\n      <td>0.740594</td>\n      <td>0.20654</td>\n      <td>0.677228</td>\n      <td>0.101368</td>\n      <td>0.819802</td>\n      <td>0.778713</td>\n    </tr>\n    <tr>\n      <th>1</th>\n      <td>AAL</td>\n      <td>16.590</td>\n      <td>N/A</td>\n      <td>-0.429068</td>\n      <td>0.0257426</td>\n      <td>0.0324183</td>\n      <td>0.148515</td>\n      <td>0.252832</td>\n      <td>0.772277</td>\n      <td>0.29854</td>\n      <td>0.994059</td>\n      <td>0.485149</td>\n    </tr>\n    <tr>\n      <th>2</th>\n      <td>AAP</td>\n      <td>162.100</td>\n      <td>N/A</td>\n      <td>0.0312817</td>\n      <td>0.427723</td>\n      <td>0.108424</td>\n      <td>0.289109</td>\n      <td>0.0433163</td>\n      <td>0.221782</td>\n      <td>0.0982118</td>\n      <td>0.809901</td>\n      <td>0.437129</td>\n    </tr>\n    <tr>\n      <th>3</th>\n      <td>AAPL</td>\n      <td>128.193</td>\n      <td>N/A</td>\n      <td>0.832267</td>\n      <td>0.970297</td>\n      <td>0.459108</td>\n      <td>0.861386</td>\n      <td>0.187845</td>\n      <td>0.633663</td>\n      <td>0.0688552</td>\n      <td>0.689109</td>\n      <td>0.788614</td>\n    </tr>\n    <tr>\n      <th>4</th>\n      <td>ABBV</td>\n      <td>105.130</td>\n      <td>N/A</td>\n      <td>0.242231</td>\n      <td>0.712871</td>\n      <td>0.113291</td>\n      <td>0.293069</td>\n      <td>0.17931</td>\n      <td>0.605941</td>\n      <td>0.0489911</td>\n      <td>0.6</td>\n      <td>0.55297</td>\n    </tr>\n    <tr>\n      <th>...</th>\n      <td>...</td>\n      <td>...</td>\n      <td>...</td>\n      <td>...</td>\n      <td>...</td>\n      <td>...</td>\n      <td>...</td>\n      <td>...</td>\n      <td>...</td>\n      <td>...</td>\n      <td>...</td>\n      <td>...</td>\n    </tr>\n    <tr>\n      <th>500</th>\n      <td>YUM</td>\n      <td>110.100</td>\n      <td>N/A</td>\n      <td>0.125092</td>\n      <td>0.556436</td>\n      <td>0.260835</td>\n      <td>0.59802</td>\n      <td>0.20127</td>\n      <td>0.659406</td>\n      <td>0.0494675</td>\n      <td>0.60396</td>\n      <td>0.604455</td>\n    </tr>\n    <tr>\n      <th>501</th>\n      <td>ZBH</td>\n      <td>153.400</td>\n      <td>N/A</td>\n      <td>0.0290649</td>\n      <td>0.425743</td>\n      <td>0.213124</td>\n      <td>0.491089</td>\n      <td>0.0990707</td>\n      <td>0.368317</td>\n      <td>0.0377896</td>\n      <td>0.524752</td>\n      <td>0.452475</td>\n    </tr>\n    <tr>\n      <th>502</th>\n      <td>ZBRA</td>\n      <td>379.000</td>\n      <td>N/A</td>\n      <td>0.491694</td>\n      <td>0.906931</td>\n      <td>0.4311</td>\n      <td>0.827723</td>\n      <td>0.46944</td>\n      <td>0.956436</td>\n      <td>0.0424493</td>\n      <td>0.556436</td>\n      <td>0.811881</td>\n    </tr>\n    <tr>\n      <th>503</th>\n      <td>ZION</td>\n      <td>41.820</td>\n      <td>N/A</td>\n      <td>-0.173166</td>\n      <td>0.150495</td>\n      <td>0.160576</td>\n      <td>0.372277</td>\n      <td>0.319579</td>\n      <td>0.869307</td>\n      <td>0.0721002</td>\n      <td>0.710891</td>\n      <td>0.525743</td>\n    </tr>\n    <tr>\n      <th>504</th>\n      <td>ZTS</td>\n      <td>168.000</td>\n      <td>N/A</td>\n      <td>0.280834</td>\n      <td>0.768317</td>\n      <td>0.196355</td>\n      <td>0.443564</td>\n      <td>0.0186694</td>\n      <td>0.174257</td>\n      <td>-0.0168095</td>\n      <td>0.180198</td>\n      <td>0.391584</td>\n    </tr>\n  </tbody>\n</table>\n<p>505 rows × 12 columns</p>\n</div>"
     },
     "metadata": {},
     "execution_count": 11
    }
   ],
   "source": [
    "from statistics import mean\n",
    "\n",
    "for row in hqm_dataframe.index:\n",
    "    momentum_percentiles = []\n",
    "    for time_period in time_periods:\n",
    "        momentum_percentiles.append(hqm_dataframe.loc[row, f'{time_period} Return Percentile'])\n",
    "    hqm_dataframe.loc[row, 'HQM Score'] = mean(momentum_percentiles)\n",
    "\n",
    "hqm_dataframe\n",
    "    "
   ]
  },
  {
   "cell_type": "markdown",
   "metadata": {},
   "source": [
    "## Selecting the 50 Best Momentum Stocks\n",
    "\n",
    "As before, we can identify the 50 best momentum stocks in our universe by sorting the DataFrame on the `HQM Score` column and dropping all but the top 50 entries."
   ]
  },
  {
   "cell_type": "code",
   "execution_count": 41,
   "metadata": {},
   "outputs": [
    {
     "output_type": "execute_result",
     "data": {
      "text/plain": [
       "   Ticker    Price Number of Shares to Buy One-Year Price Return  \\\n",
       "0    ALGN  531.170                     N/A              0.949927   \n",
       "1     FCX   24.880                     N/A              0.945644   \n",
       "2    TWTR   57.890                     N/A               0.74536   \n",
       "3     ALB  140.400                     N/A               1.04839   \n",
       "4    XLNX  154.360                     N/A              0.597241   \n",
       "5    PYPL  241.590                     N/A               1.21383   \n",
       "6    LRCX  494.950                     N/A              0.697907   \n",
       "7     AMD   97.370                     N/A                1.2674   \n",
       "8    CDNS  132.590                     N/A              0.927424   \n",
       "9    PAYC  456.180                     N/A              0.692074   \n",
       "10   TTWO  211.340                     N/A              0.686827   \n",
       "11   AMAT   86.360                     N/A              0.456089   \n",
       "12   SNPS  256.000                     N/A              0.863256   \n",
       "13   IDXX  485.990                     N/A              0.934505   \n",
       "14     MU   74.670                     N/A              0.310674   \n",
       "15   ALXN  157.920                     N/A              0.411749   \n",
       "16   ADSK  306.000                     N/A              0.683436   \n",
       "17    DIS  173.520                     N/A              0.187834   \n",
       "18    NOW  588.270                     N/A               1.05511   \n",
       "19    HPQ   25.140                     N/A                 0.243   \n",
       "20   AVGO  451.160                     N/A              0.423402   \n",
       "21   QRVO  164.700                     N/A              0.405827   \n",
       "22    DVA  120.060                     N/A               0.59225   \n",
       "23   APTV  130.500                     N/A              0.279449   \n",
       "24   KLAC  262.930                     N/A               0.52885   \n",
       "25   CTVA   39.490                     N/A              0.454925   \n",
       "26   NTAP   67.570                     N/A              0.071386   \n",
       "27   MSCI  453.980                     N/A              0.726483   \n",
       "28    TYL  460.990                     N/A              0.535273   \n",
       "29   MXIM   86.780                     N/A              0.456209   \n",
       "30     DE  282.700                     N/A              0.602108   \n",
       "31    PKI  146.200                     N/A              0.517916   \n",
       "32    MOS   24.430                     N/A              0.155928   \n",
       "33    EMN  108.130                     N/A              0.360005   \n",
       "34   MCHP  140.030                     N/A              0.371976   \n",
       "35     MS   66.740                     N/A              0.307485   \n",
       "36   ZBRA  384.000                     N/A              0.481908   \n",
       "37    DFS   87.150                     N/A              0.028663   \n",
       "38   IPGP  217.790                     N/A              0.492974   \n",
       "39   AAPL  127.778                     N/A              0.828742   \n",
       "40    URI  229.770                     N/A              0.381274   \n",
       "41     WY   34.110                     N/A              0.149404   \n",
       "42    IPG   24.450                     N/A              0.110489   \n",
       "43   ANET  291.980                     N/A              0.422794   \n",
       "44   SIVB  374.400                     N/A              0.436915   \n",
       "45   SCHW   53.730                     N/A             0.0986864   \n",
       "46     GE   10.910                     N/A            -0.0150122   \n",
       "47    MGM   33.020                     N/A            -0.0408552   \n",
       "48    PVH   97.490                     N/A            -0.0902817   \n",
       "49   QCOM  148.970                     N/A              0.725196   \n",
       "\n",
       "   One-Year Return Percentile Six-Month Price Return  \\\n",
       "0                    0.986139                1.03898   \n",
       "1                    0.984158                 1.3605   \n",
       "2                    0.964356               0.675239   \n",
       "3                    0.988119               0.823722   \n",
       "4                    0.932673               0.581076   \n",
       "5                    0.994059               0.447633   \n",
       "6                    0.950495               0.562207   \n",
       "7                     0.99604               0.784113   \n",
       "8                    0.978218               0.453885   \n",
       "9                    0.948515               0.387125   \n",
       "10                   0.946535               0.437338   \n",
       "11                    0.89505               0.425017   \n",
       "12                   0.972277               0.388188   \n",
       "13                   0.980198               0.549701   \n",
       "14                    0.79802               0.414147   \n",
       "15                   0.861386               0.323963   \n",
       "16                   0.944554               0.287182   \n",
       "17                   0.649505               0.532072   \n",
       "18                   0.990099               0.427182   \n",
       "19                   0.714851               0.469848   \n",
       "20                   0.869307               0.470347   \n",
       "21                   0.857426                0.47307   \n",
       "22                   0.930693               0.459159   \n",
       "23                   0.766337               0.606719   \n",
       "24                   0.918812               0.370263   \n",
       "25                   0.893069               0.469569   \n",
       "26                   0.479208               0.505202   \n",
       "27                   0.960396               0.342702   \n",
       "28                   0.920792               0.350603   \n",
       "29                    0.89703               0.460876   \n",
       "30                   0.934653               0.794204   \n",
       "31                   0.914851               0.458575   \n",
       "32                   0.609901               0.846454   \n",
       "33                   0.831683               0.527916   \n",
       "34                   0.835644               0.356777   \n",
       "35                    0.79604               0.392259   \n",
       "36                    0.90495               0.427793   \n",
       "37                   0.423762               0.633666   \n",
       "38                   0.908911               0.337219   \n",
       "39                   0.970297               0.466885   \n",
       "40                   0.841584               0.477338   \n",
       "41                    0.59604               0.500264   \n",
       "42                   0.532673               0.447169   \n",
       "43                   0.867327               0.334916   \n",
       "44                   0.879208               0.626742   \n",
       "45                   0.518812                 0.4309   \n",
       "46                   0.350495                0.53391   \n",
       "47                   0.306931               0.739598   \n",
       "48                   0.249505                1.07545   \n",
       "49                   0.958416               0.688314   \n",
       "\n",
       "   Six-Month Return Percentile Three-Month Price Return  \\\n",
       "0                     0.990099                 0.658344   \n",
       "1                      0.99802                 0.455635   \n",
       "2                     0.958416                 0.394955   \n",
       "3                     0.978218                 0.433583   \n",
       "4                     0.936634                 0.494772   \n",
       "5                     0.851485                 0.353358   \n",
       "6                     0.934653                 0.593262   \n",
       "7                     0.970297                 0.280325   \n",
       "8                     0.857426                 0.335359   \n",
       "9                     0.790099                 0.616006   \n",
       "10                    0.839604                 0.292394   \n",
       "11                    0.821782                 0.543966   \n",
       "12                    0.792079                 0.294409   \n",
       "13                    0.928713                 0.371776   \n",
       "14                    0.813861                 0.426428   \n",
       "15                    0.681188                 0.388235   \n",
       "16                    0.635644                 0.372071   \n",
       "17                    0.918812                 0.348707   \n",
       "18                    0.823762                 0.258666   \n",
       "19                    0.877228                 0.303422   \n",
       "20                    0.879208                 0.236547   \n",
       "21                    0.881188                 0.275363   \n",
       "22                    0.861386                 0.335505   \n",
       "23                    0.944554                  0.41604   \n",
       "24                    0.764356                 0.471805   \n",
       "25                    0.875248                 0.370848   \n",
       "26                    0.906931                 0.560301   \n",
       "27                    0.714851                  0.29205   \n",
       "28                    0.728713                 0.355467   \n",
       "29                    0.863366                 0.317364   \n",
       "30                    0.974257                 0.225189   \n",
       "31                    0.859406                 0.214907   \n",
       "32                    0.984158                  0.21991   \n",
       "33                    0.916832                 0.246533   \n",
       "34                    0.740594                 0.381908   \n",
       "35                     0.80198                 0.304182   \n",
       "36                    0.825743                 0.456533   \n",
       "37                    0.952475                 0.468226   \n",
       "38                    0.706931                 0.298284   \n",
       "39                    0.869307                 0.196561   \n",
       "40                    0.887129                 0.296846   \n",
       "41                     0.90099                 0.234962   \n",
       "42                    0.847525                 0.363649   \n",
       "43                     0.70297                 0.439973   \n",
       "44                    0.950495                 0.472434   \n",
       "45                    0.829703                 0.457075   \n",
       "46                    0.920792                 0.593279   \n",
       "47                    0.966337                 0.451761   \n",
       "48                    0.994059                 0.404003   \n",
       "49                    0.960396                 0.347684   \n",
       "\n",
       "   Three-Month Return Percentile One-Month Price Return  \\\n",
       "0                       0.994059               0.203533   \n",
       "1                       0.948515               0.171138   \n",
       "2                       0.926733               0.285181   \n",
       "3                       0.940594               0.111083   \n",
       "4                       0.964356               0.126734   \n",
       "5                        0.89901               0.245339   \n",
       "6                       0.982178               0.105194   \n",
       "7                       0.809901               0.122233   \n",
       "8                       0.879208               0.174001   \n",
       "9                       0.990099               0.122194   \n",
       "10                      0.825743               0.238423   \n",
       "11                      0.974257               0.115549   \n",
       "12                      0.827723               0.155816   \n",
       "13                      0.912871              0.0628454   \n",
       "14                      0.936634                0.16238   \n",
       "15                      0.924752               0.286106   \n",
       "16                      0.914851                0.19274   \n",
       "17                      0.893069               0.224245   \n",
       "18                      0.780198               0.103252   \n",
       "19                      0.845545               0.212369   \n",
       "20                      0.742574               0.146022   \n",
       "21                           0.8               0.112561   \n",
       "22                      0.881188              0.0735522   \n",
       "23                      0.932673              0.0792192   \n",
       "24                      0.960396              0.0777356   \n",
       "25                      0.910891              0.0686501   \n",
       "26                      0.976238               0.252206   \n",
       "27                      0.823762               0.107353   \n",
       "28                       0.90297               0.083276   \n",
       "29                      0.863366              0.0666525   \n",
       "30                      0.726733              0.0611353   \n",
       "31                      0.706931              0.0936906   \n",
       "32                      0.718812               0.203985   \n",
       "33                      0.758416              0.0834603   \n",
       "34                      0.922772              0.0847902   \n",
       "35                      0.847525              0.0962376   \n",
       "36                      0.950495              0.0416916   \n",
       "37                      0.956436               0.124173   \n",
       "38                      0.837624              0.0813445   \n",
       "39                      0.643564               0.070205   \n",
       "40                      0.835644              0.0495327   \n",
       "41                      0.740594               0.176857   \n",
       "42                       0.90495                0.12564   \n",
       "43                      0.944554              0.0564887   \n",
       "44                      0.962376             0.00889621   \n",
       "45                      0.952475               0.107679   \n",
       "46                      0.984158               0.125704   \n",
       "47                      0.946535               0.166323   \n",
       "48                      0.928713               0.211484   \n",
       "49                      0.891089             0.00358386   \n",
       "\n",
       "   One-Month Return Percentile HQM Score  \n",
       "0                     0.958416  0.982178  \n",
       "1                     0.924752  0.963861  \n",
       "2                     0.990099  0.959901  \n",
       "3                     0.849505  0.939109  \n",
       "4                     0.889109  0.930693  \n",
       "5                     0.978218  0.930693  \n",
       "6                     0.833663  0.925248  \n",
       "7                     0.877228  0.913366  \n",
       "8                     0.928713  0.910891  \n",
       "9                     0.875248   0.90099  \n",
       "10                    0.974257  0.896535  \n",
       "11                    0.859406  0.887624  \n",
       "12                     0.90495  0.874257  \n",
       "13                    0.665347  0.871782  \n",
       "14                    0.916832  0.866337  \n",
       "15                    0.992079  0.864851  \n",
       "16                    0.948515  0.860891  \n",
       "17                    0.970297  0.857921  \n",
       "18                    0.825743   0.85495  \n",
       "19                    0.968317  0.851485  \n",
       "20                     0.90099   0.84802  \n",
       "21                    0.853465   0.84802  \n",
       "22                    0.716832  0.847525  \n",
       "23                    0.740594   0.84604  \n",
       "24                    0.732673  0.844059  \n",
       "25                    0.691089  0.842574  \n",
       "26                    0.982178  0.836139  \n",
       "27                    0.839604  0.834653  \n",
       "28                    0.752475  0.826238  \n",
       "29                    0.679208  0.825743  \n",
       "30                    0.657426  0.823267  \n",
       "31                    0.792079  0.818317  \n",
       "32                    0.960396  0.818317  \n",
       "33                    0.754455  0.815347  \n",
       "34                    0.758416  0.814356  \n",
       "35                     0.79802  0.810891  \n",
       "36                    0.556436  0.809406  \n",
       "37                    0.881188  0.803465  \n",
       "38                    0.746535       0.8  \n",
       "39                     0.69901  0.795545  \n",
       "40                    0.607921  0.793069  \n",
       "41                    0.932673  0.792574  \n",
       "42                    0.885149  0.792574  \n",
       "43                    0.641584  0.789109  \n",
       "44                    0.350495  0.785644  \n",
       "45                    0.841584  0.785644  \n",
       "46                    0.887129  0.785644  \n",
       "47                    0.920792  0.785149  \n",
       "48                    0.966337  0.784653  \n",
       "49                    0.320792  0.782673  "
      ],
      "text/html": "<div>\n<style scoped>\n    .dataframe tbody tr th:only-of-type {\n        vertical-align: middle;\n    }\n\n    .dataframe tbody tr th {\n        vertical-align: top;\n    }\n\n    .dataframe thead th {\n        text-align: right;\n    }\n</style>\n<table border=\"1\" class=\"dataframe\">\n  <thead>\n    <tr style=\"text-align: right;\">\n      <th></th>\n      <th>Ticker</th>\n      <th>Price</th>\n      <th>Number of Shares to Buy</th>\n      <th>One-Year Price Return</th>\n      <th>One-Year Return Percentile</th>\n      <th>Six-Month Price Return</th>\n      <th>Six-Month Return Percentile</th>\n      <th>Three-Month Price Return</th>\n      <th>Three-Month Return Percentile</th>\n      <th>One-Month Price Return</th>\n      <th>One-Month Return Percentile</th>\n      <th>HQM Score</th>\n    </tr>\n  </thead>\n  <tbody>\n    <tr>\n      <th>0</th>\n      <td>ALGN</td>\n      <td>531.170</td>\n      <td>N/A</td>\n      <td>0.949927</td>\n      <td>0.986139</td>\n      <td>1.03898</td>\n      <td>0.990099</td>\n      <td>0.658344</td>\n      <td>0.994059</td>\n      <td>0.203533</td>\n      <td>0.958416</td>\n      <td>0.982178</td>\n    </tr>\n    <tr>\n      <th>1</th>\n      <td>FCX</td>\n      <td>24.880</td>\n      <td>N/A</td>\n      <td>0.945644</td>\n      <td>0.984158</td>\n      <td>1.3605</td>\n      <td>0.99802</td>\n      <td>0.455635</td>\n      <td>0.948515</td>\n      <td>0.171138</td>\n      <td>0.924752</td>\n      <td>0.963861</td>\n    </tr>\n    <tr>\n      <th>2</th>\n      <td>TWTR</td>\n      <td>57.890</td>\n      <td>N/A</td>\n      <td>0.74536</td>\n      <td>0.964356</td>\n      <td>0.675239</td>\n      <td>0.958416</td>\n      <td>0.394955</td>\n      <td>0.926733</td>\n      <td>0.285181</td>\n      <td>0.990099</td>\n      <td>0.959901</td>\n    </tr>\n    <tr>\n      <th>3</th>\n      <td>ALB</td>\n      <td>140.400</td>\n      <td>N/A</td>\n      <td>1.04839</td>\n      <td>0.988119</td>\n      <td>0.823722</td>\n      <td>0.978218</td>\n      <td>0.433583</td>\n      <td>0.940594</td>\n      <td>0.111083</td>\n      <td>0.849505</td>\n      <td>0.939109</td>\n    </tr>\n    <tr>\n      <th>4</th>\n      <td>XLNX</td>\n      <td>154.360</td>\n      <td>N/A</td>\n      <td>0.597241</td>\n      <td>0.932673</td>\n      <td>0.581076</td>\n      <td>0.936634</td>\n      <td>0.494772</td>\n      <td>0.964356</td>\n      <td>0.126734</td>\n      <td>0.889109</td>\n      <td>0.930693</td>\n    </tr>\n    <tr>\n      <th>5</th>\n      <td>PYPL</td>\n      <td>241.590</td>\n      <td>N/A</td>\n      <td>1.21383</td>\n      <td>0.994059</td>\n      <td>0.447633</td>\n      <td>0.851485</td>\n      <td>0.353358</td>\n      <td>0.89901</td>\n      <td>0.245339</td>\n      <td>0.978218</td>\n      <td>0.930693</td>\n    </tr>\n    <tr>\n      <th>6</th>\n      <td>LRCX</td>\n      <td>494.950</td>\n      <td>N/A</td>\n      <td>0.697907</td>\n      <td>0.950495</td>\n      <td>0.562207</td>\n      <td>0.934653</td>\n      <td>0.593262</td>\n      <td>0.982178</td>\n      <td>0.105194</td>\n      <td>0.833663</td>\n      <td>0.925248</td>\n    </tr>\n    <tr>\n      <th>7</th>\n      <td>AMD</td>\n      <td>97.370</td>\n      <td>N/A</td>\n      <td>1.2674</td>\n      <td>0.99604</td>\n      <td>0.784113</td>\n      <td>0.970297</td>\n      <td>0.280325</td>\n      <td>0.809901</td>\n      <td>0.122233</td>\n      <td>0.877228</td>\n      <td>0.913366</td>\n    </tr>\n    <tr>\n      <th>8</th>\n      <td>CDNS</td>\n      <td>132.590</td>\n      <td>N/A</td>\n      <td>0.927424</td>\n      <td>0.978218</td>\n      <td>0.453885</td>\n      <td>0.857426</td>\n      <td>0.335359</td>\n      <td>0.879208</td>\n      <td>0.174001</td>\n      <td>0.928713</td>\n      <td>0.910891</td>\n    </tr>\n    <tr>\n      <th>9</th>\n      <td>PAYC</td>\n      <td>456.180</td>\n      <td>N/A</td>\n      <td>0.692074</td>\n      <td>0.948515</td>\n      <td>0.387125</td>\n      <td>0.790099</td>\n      <td>0.616006</td>\n      <td>0.990099</td>\n      <td>0.122194</td>\n      <td>0.875248</td>\n      <td>0.90099</td>\n    </tr>\n    <tr>\n      <th>10</th>\n      <td>TTWO</td>\n      <td>211.340</td>\n      <td>N/A</td>\n      <td>0.686827</td>\n      <td>0.946535</td>\n      <td>0.437338</td>\n      <td>0.839604</td>\n      <td>0.292394</td>\n      <td>0.825743</td>\n      <td>0.238423</td>\n      <td>0.974257</td>\n      <td>0.896535</td>\n    </tr>\n    <tr>\n      <th>11</th>\n      <td>AMAT</td>\n      <td>86.360</td>\n      <td>N/A</td>\n      <td>0.456089</td>\n      <td>0.89505</td>\n      <td>0.425017</td>\n      <td>0.821782</td>\n      <td>0.543966</td>\n      <td>0.974257</td>\n      <td>0.115549</td>\n      <td>0.859406</td>\n      <td>0.887624</td>\n    </tr>\n    <tr>\n      <th>12</th>\n      <td>SNPS</td>\n      <td>256.000</td>\n      <td>N/A</td>\n      <td>0.863256</td>\n      <td>0.972277</td>\n      <td>0.388188</td>\n      <td>0.792079</td>\n      <td>0.294409</td>\n      <td>0.827723</td>\n      <td>0.155816</td>\n      <td>0.90495</td>\n      <td>0.874257</td>\n    </tr>\n    <tr>\n      <th>13</th>\n      <td>IDXX</td>\n      <td>485.990</td>\n      <td>N/A</td>\n      <td>0.934505</td>\n      <td>0.980198</td>\n      <td>0.549701</td>\n      <td>0.928713</td>\n      <td>0.371776</td>\n      <td>0.912871</td>\n      <td>0.0628454</td>\n      <td>0.665347</td>\n      <td>0.871782</td>\n    </tr>\n    <tr>\n      <th>14</th>\n      <td>MU</td>\n      <td>74.670</td>\n      <td>N/A</td>\n      <td>0.310674</td>\n      <td>0.79802</td>\n      <td>0.414147</td>\n      <td>0.813861</td>\n      <td>0.426428</td>\n      <td>0.936634</td>\n      <td>0.16238</td>\n      <td>0.916832</td>\n      <td>0.866337</td>\n    </tr>\n    <tr>\n      <th>15</th>\n      <td>ALXN</td>\n      <td>157.920</td>\n      <td>N/A</td>\n      <td>0.411749</td>\n      <td>0.861386</td>\n      <td>0.323963</td>\n      <td>0.681188</td>\n      <td>0.388235</td>\n      <td>0.924752</td>\n      <td>0.286106</td>\n      <td>0.992079</td>\n      <td>0.864851</td>\n    </tr>\n    <tr>\n      <th>16</th>\n      <td>ADSK</td>\n      <td>306.000</td>\n      <td>N/A</td>\n      <td>0.683436</td>\n      <td>0.944554</td>\n      <td>0.287182</td>\n      <td>0.635644</td>\n      <td>0.372071</td>\n      <td>0.914851</td>\n      <td>0.19274</td>\n      <td>0.948515</td>\n      <td>0.860891</td>\n    </tr>\n    <tr>\n      <th>17</th>\n      <td>DIS</td>\n      <td>173.520</td>\n      <td>N/A</td>\n      <td>0.187834</td>\n      <td>0.649505</td>\n      <td>0.532072</td>\n      <td>0.918812</td>\n      <td>0.348707</td>\n      <td>0.893069</td>\n      <td>0.224245</td>\n      <td>0.970297</td>\n      <td>0.857921</td>\n    </tr>\n    <tr>\n      <th>18</th>\n      <td>NOW</td>\n      <td>588.270</td>\n      <td>N/A</td>\n      <td>1.05511</td>\n      <td>0.990099</td>\n      <td>0.427182</td>\n      <td>0.823762</td>\n      <td>0.258666</td>\n      <td>0.780198</td>\n      <td>0.103252</td>\n      <td>0.825743</td>\n      <td>0.85495</td>\n    </tr>\n    <tr>\n      <th>19</th>\n      <td>HPQ</td>\n      <td>25.140</td>\n      <td>N/A</td>\n      <td>0.243</td>\n      <td>0.714851</td>\n      <td>0.469848</td>\n      <td>0.877228</td>\n      <td>0.303422</td>\n      <td>0.845545</td>\n      <td>0.212369</td>\n      <td>0.968317</td>\n      <td>0.851485</td>\n    </tr>\n    <tr>\n      <th>20</th>\n      <td>AVGO</td>\n      <td>451.160</td>\n      <td>N/A</td>\n      <td>0.423402</td>\n      <td>0.869307</td>\n      <td>0.470347</td>\n      <td>0.879208</td>\n      <td>0.236547</td>\n      <td>0.742574</td>\n      <td>0.146022</td>\n      <td>0.90099</td>\n      <td>0.84802</td>\n    </tr>\n    <tr>\n      <th>21</th>\n      <td>QRVO</td>\n      <td>164.700</td>\n      <td>N/A</td>\n      <td>0.405827</td>\n      <td>0.857426</td>\n      <td>0.47307</td>\n      <td>0.881188</td>\n      <td>0.275363</td>\n      <td>0.8</td>\n      <td>0.112561</td>\n      <td>0.853465</td>\n      <td>0.84802</td>\n    </tr>\n    <tr>\n      <th>22</th>\n      <td>DVA</td>\n      <td>120.060</td>\n      <td>N/A</td>\n      <td>0.59225</td>\n      <td>0.930693</td>\n      <td>0.459159</td>\n      <td>0.861386</td>\n      <td>0.335505</td>\n      <td>0.881188</td>\n      <td>0.0735522</td>\n      <td>0.716832</td>\n      <td>0.847525</td>\n    </tr>\n    <tr>\n      <th>23</th>\n      <td>APTV</td>\n      <td>130.500</td>\n      <td>N/A</td>\n      <td>0.279449</td>\n      <td>0.766337</td>\n      <td>0.606719</td>\n      <td>0.944554</td>\n      <td>0.41604</td>\n      <td>0.932673</td>\n      <td>0.0792192</td>\n      <td>0.740594</td>\n      <td>0.84604</td>\n    </tr>\n    <tr>\n      <th>24</th>\n      <td>KLAC</td>\n      <td>262.930</td>\n      <td>N/A</td>\n      <td>0.52885</td>\n      <td>0.918812</td>\n      <td>0.370263</td>\n      <td>0.764356</td>\n      <td>0.471805</td>\n      <td>0.960396</td>\n      <td>0.0777356</td>\n      <td>0.732673</td>\n      <td>0.844059</td>\n    </tr>\n    <tr>\n      <th>25</th>\n      <td>CTVA</td>\n      <td>39.490</td>\n      <td>N/A</td>\n      <td>0.454925</td>\n      <td>0.893069</td>\n      <td>0.469569</td>\n      <td>0.875248</td>\n      <td>0.370848</td>\n      <td>0.910891</td>\n      <td>0.0686501</td>\n      <td>0.691089</td>\n      <td>0.842574</td>\n    </tr>\n    <tr>\n      <th>26</th>\n      <td>NTAP</td>\n      <td>67.570</td>\n      <td>N/A</td>\n      <td>0.071386</td>\n      <td>0.479208</td>\n      <td>0.505202</td>\n      <td>0.906931</td>\n      <td>0.560301</td>\n      <td>0.976238</td>\n      <td>0.252206</td>\n      <td>0.982178</td>\n      <td>0.836139</td>\n    </tr>\n    <tr>\n      <th>27</th>\n      <td>MSCI</td>\n      <td>453.980</td>\n      <td>N/A</td>\n      <td>0.726483</td>\n      <td>0.960396</td>\n      <td>0.342702</td>\n      <td>0.714851</td>\n      <td>0.29205</td>\n      <td>0.823762</td>\n      <td>0.107353</td>\n      <td>0.839604</td>\n      <td>0.834653</td>\n    </tr>\n    <tr>\n      <th>28</th>\n      <td>TYL</td>\n      <td>460.990</td>\n      <td>N/A</td>\n      <td>0.535273</td>\n      <td>0.920792</td>\n      <td>0.350603</td>\n      <td>0.728713</td>\n      <td>0.355467</td>\n      <td>0.90297</td>\n      <td>0.083276</td>\n      <td>0.752475</td>\n      <td>0.826238</td>\n    </tr>\n    <tr>\n      <th>29</th>\n      <td>MXIM</td>\n      <td>86.780</td>\n      <td>N/A</td>\n      <td>0.456209</td>\n      <td>0.89703</td>\n      <td>0.460876</td>\n      <td>0.863366</td>\n      <td>0.317364</td>\n      <td>0.863366</td>\n      <td>0.0666525</td>\n      <td>0.679208</td>\n      <td>0.825743</td>\n    </tr>\n    <tr>\n      <th>30</th>\n      <td>DE</td>\n      <td>282.700</td>\n      <td>N/A</td>\n      <td>0.602108</td>\n      <td>0.934653</td>\n      <td>0.794204</td>\n      <td>0.974257</td>\n      <td>0.225189</td>\n      <td>0.726733</td>\n      <td>0.0611353</td>\n      <td>0.657426</td>\n      <td>0.823267</td>\n    </tr>\n    <tr>\n      <th>31</th>\n      <td>PKI</td>\n      <td>146.200</td>\n      <td>N/A</td>\n      <td>0.517916</td>\n      <td>0.914851</td>\n      <td>0.458575</td>\n      <td>0.859406</td>\n      <td>0.214907</td>\n      <td>0.706931</td>\n      <td>0.0936906</td>\n      <td>0.792079</td>\n      <td>0.818317</td>\n    </tr>\n    <tr>\n      <th>32</th>\n      <td>MOS</td>\n      <td>24.430</td>\n      <td>N/A</td>\n      <td>0.155928</td>\n      <td>0.609901</td>\n      <td>0.846454</td>\n      <td>0.984158</td>\n      <td>0.21991</td>\n      <td>0.718812</td>\n      <td>0.203985</td>\n      <td>0.960396</td>\n      <td>0.818317</td>\n    </tr>\n    <tr>\n      <th>33</th>\n      <td>EMN</td>\n      <td>108.130</td>\n      <td>N/A</td>\n      <td>0.360005</td>\n      <td>0.831683</td>\n      <td>0.527916</td>\n      <td>0.916832</td>\n      <td>0.246533</td>\n      <td>0.758416</td>\n      <td>0.0834603</td>\n      <td>0.754455</td>\n      <td>0.815347</td>\n    </tr>\n    <tr>\n      <th>34</th>\n      <td>MCHP</td>\n      <td>140.030</td>\n      <td>N/A</td>\n      <td>0.371976</td>\n      <td>0.835644</td>\n      <td>0.356777</td>\n      <td>0.740594</td>\n      <td>0.381908</td>\n      <td>0.922772</td>\n      <td>0.0847902</td>\n      <td>0.758416</td>\n      <td>0.814356</td>\n    </tr>\n    <tr>\n      <th>35</th>\n      <td>MS</td>\n      <td>66.740</td>\n      <td>N/A</td>\n      <td>0.307485</td>\n      <td>0.79604</td>\n      <td>0.392259</td>\n      <td>0.80198</td>\n      <td>0.304182</td>\n      <td>0.847525</td>\n      <td>0.0962376</td>\n      <td>0.79802</td>\n      <td>0.810891</td>\n    </tr>\n    <tr>\n      <th>36</th>\n      <td>ZBRA</td>\n      <td>384.000</td>\n      <td>N/A</td>\n      <td>0.481908</td>\n      <td>0.90495</td>\n      <td>0.427793</td>\n      <td>0.825743</td>\n      <td>0.456533</td>\n      <td>0.950495</td>\n      <td>0.0416916</td>\n      <td>0.556436</td>\n      <td>0.809406</td>\n    </tr>\n    <tr>\n      <th>37</th>\n      <td>DFS</td>\n      <td>87.150</td>\n      <td>N/A</td>\n      <td>0.028663</td>\n      <td>0.423762</td>\n      <td>0.633666</td>\n      <td>0.952475</td>\n      <td>0.468226</td>\n      <td>0.956436</td>\n      <td>0.124173</td>\n      <td>0.881188</td>\n      <td>0.803465</td>\n    </tr>\n    <tr>\n      <th>38</th>\n      <td>IPGP</td>\n      <td>217.790</td>\n      <td>N/A</td>\n      <td>0.492974</td>\n      <td>0.908911</td>\n      <td>0.337219</td>\n      <td>0.706931</td>\n      <td>0.298284</td>\n      <td>0.837624</td>\n      <td>0.0813445</td>\n      <td>0.746535</td>\n      <td>0.8</td>\n    </tr>\n    <tr>\n      <th>39</th>\n      <td>AAPL</td>\n      <td>127.778</td>\n      <td>N/A</td>\n      <td>0.828742</td>\n      <td>0.970297</td>\n      <td>0.466885</td>\n      <td>0.869307</td>\n      <td>0.196561</td>\n      <td>0.643564</td>\n      <td>0.070205</td>\n      <td>0.69901</td>\n      <td>0.795545</td>\n    </tr>\n    <tr>\n      <th>40</th>\n      <td>URI</td>\n      <td>229.770</td>\n      <td>N/A</td>\n      <td>0.381274</td>\n      <td>0.841584</td>\n      <td>0.477338</td>\n      <td>0.887129</td>\n      <td>0.296846</td>\n      <td>0.835644</td>\n      <td>0.0495327</td>\n      <td>0.607921</td>\n      <td>0.793069</td>\n    </tr>\n    <tr>\n      <th>41</th>\n      <td>WY</td>\n      <td>34.110</td>\n      <td>N/A</td>\n      <td>0.149404</td>\n      <td>0.59604</td>\n      <td>0.500264</td>\n      <td>0.90099</td>\n      <td>0.234962</td>\n      <td>0.740594</td>\n      <td>0.176857</td>\n      <td>0.932673</td>\n      <td>0.792574</td>\n    </tr>\n    <tr>\n      <th>42</th>\n      <td>IPG</td>\n      <td>24.450</td>\n      <td>N/A</td>\n      <td>0.110489</td>\n      <td>0.532673</td>\n      <td>0.447169</td>\n      <td>0.847525</td>\n      <td>0.363649</td>\n      <td>0.90495</td>\n      <td>0.12564</td>\n      <td>0.885149</td>\n      <td>0.792574</td>\n    </tr>\n    <tr>\n      <th>43</th>\n      <td>ANET</td>\n      <td>291.980</td>\n      <td>N/A</td>\n      <td>0.422794</td>\n      <td>0.867327</td>\n      <td>0.334916</td>\n      <td>0.70297</td>\n      <td>0.439973</td>\n      <td>0.944554</td>\n      <td>0.0564887</td>\n      <td>0.641584</td>\n      <td>0.789109</td>\n    </tr>\n    <tr>\n      <th>44</th>\n      <td>SIVB</td>\n      <td>374.400</td>\n      <td>N/A</td>\n      <td>0.436915</td>\n      <td>0.879208</td>\n      <td>0.626742</td>\n      <td>0.950495</td>\n      <td>0.472434</td>\n      <td>0.962376</td>\n      <td>0.00889621</td>\n      <td>0.350495</td>\n      <td>0.785644</td>\n    </tr>\n    <tr>\n      <th>45</th>\n      <td>SCHW</td>\n      <td>53.730</td>\n      <td>N/A</td>\n      <td>0.0986864</td>\n      <td>0.518812</td>\n      <td>0.4309</td>\n      <td>0.829703</td>\n      <td>0.457075</td>\n      <td>0.952475</td>\n      <td>0.107679</td>\n      <td>0.841584</td>\n      <td>0.785644</td>\n    </tr>\n    <tr>\n      <th>46</th>\n      <td>GE</td>\n      <td>10.910</td>\n      <td>N/A</td>\n      <td>-0.0150122</td>\n      <td>0.350495</td>\n      <td>0.53391</td>\n      <td>0.920792</td>\n      <td>0.593279</td>\n      <td>0.984158</td>\n      <td>0.125704</td>\n      <td>0.887129</td>\n      <td>0.785644</td>\n    </tr>\n    <tr>\n      <th>47</th>\n      <td>MGM</td>\n      <td>33.020</td>\n      <td>N/A</td>\n      <td>-0.0408552</td>\n      <td>0.306931</td>\n      <td>0.739598</td>\n      <td>0.966337</td>\n      <td>0.451761</td>\n      <td>0.946535</td>\n      <td>0.166323</td>\n      <td>0.920792</td>\n      <td>0.785149</td>\n    </tr>\n    <tr>\n      <th>48</th>\n      <td>PVH</td>\n      <td>97.490</td>\n      <td>N/A</td>\n      <td>-0.0902817</td>\n      <td>0.249505</td>\n      <td>1.07545</td>\n      <td>0.994059</td>\n      <td>0.404003</td>\n      <td>0.928713</td>\n      <td>0.211484</td>\n      <td>0.966337</td>\n      <td>0.784653</td>\n    </tr>\n    <tr>\n      <th>49</th>\n      <td>QCOM</td>\n      <td>148.970</td>\n      <td>N/A</td>\n      <td>0.725196</td>\n      <td>0.958416</td>\n      <td>0.688314</td>\n      <td>0.960396</td>\n      <td>0.347684</td>\n      <td>0.891089</td>\n      <td>0.00358386</td>\n      <td>0.320792</td>\n      <td>0.782673</td>\n    </tr>\n  </tbody>\n</table>\n</div>"
     },
     "metadata": {},
     "execution_count": 41
    }
   ],
   "source": [
    "hqm_dataframe.sort_values('HQM Score', ascending = False, inplace = True)\n",
    "hqm_dataframe = hqm_dataframe[:50]\n",
    "hqm_dataframe.reset_index(inplace=True, drop=True)\n",
    "hqm_dataframe"
   ]
  },
  {
   "cell_type": "markdown",
   "metadata": {},
   "source": [
    "## Calculating the Number of Shares to Buy\n",
    "\n",
    "We'll use the `portfolio_input` function that we created earlier to accept our portfolio size. Then we will use similar logic in a `for` loop to calculate the number of shares to buy for each stock in our investment universe."
   ]
  },
  {
   "cell_type": "code",
   "execution_count": 17,
   "metadata": {},
   "outputs": [],
   "source": [
    "portfolio_input()"
   ]
  },
  {
   "cell_type": "code",
   "execution_count": 18,
   "metadata": {},
   "outputs": [
    {
     "output_type": "execute_result",
     "data": {
      "text/plain": [
       "    Ticker    Price Number of Shares to Buy One-Year Price Return  \\\n",
       "0        A  119.400                      16              0.434254   \n",
       "1      AAL   16.590                     119             -0.429068   \n",
       "2      AAP  162.100                      12             0.0312817   \n",
       "3     AAPL  128.193                      15              0.832267   \n",
       "4     ABBV  105.130                      18              0.242231   \n",
       "..     ...      ...                     ...                   ...   \n",
       "500    YUM  110.100                      17              0.125092   \n",
       "501    ZBH  153.400                      12             0.0290649   \n",
       "502   ZBRA  379.000                       5              0.491694   \n",
       "503   ZION   41.820                      47             -0.173166   \n",
       "504    ZTS  168.000                      11              0.280834   \n",
       "\n",
       "    One-Year Return Percentile Six-Month Price Return  \\\n",
       "0                     0.877228               0.358017   \n",
       "1                    0.0257426              0.0324183   \n",
       "2                     0.427723               0.108424   \n",
       "3                     0.970297               0.459108   \n",
       "4                     0.712871               0.113291   \n",
       "..                         ...                    ...   \n",
       "500                   0.556436               0.260835   \n",
       "501                   0.425743               0.213124   \n",
       "502                   0.906931                 0.4311   \n",
       "503                   0.150495               0.160576   \n",
       "504                   0.768317               0.196355   \n",
       "\n",
       "    Six-Month Return Percentile Three-Month Price Return  \\\n",
       "0                      0.740594                  0.20654   \n",
       "1                      0.148515                 0.252832   \n",
       "2                      0.289109                0.0433163   \n",
       "3                      0.861386                 0.187845   \n",
       "4                      0.293069                  0.17931   \n",
       "..                          ...                      ...   \n",
       "500                     0.59802                  0.20127   \n",
       "501                    0.491089                0.0990707   \n",
       "502                    0.827723                  0.46944   \n",
       "503                    0.372277                 0.319579   \n",
       "504                    0.443564                0.0186694   \n",
       "\n",
       "    Three-Month Return Percentile One-Month Price Return  \\\n",
       "0                        0.677228               0.101368   \n",
       "1                        0.772277                0.29854   \n",
       "2                        0.221782              0.0982118   \n",
       "3                        0.633663              0.0688552   \n",
       "4                        0.605941              0.0489911   \n",
       "..                            ...                    ...   \n",
       "500                      0.659406              0.0494675   \n",
       "501                      0.368317              0.0377896   \n",
       "502                      0.956436              0.0424493   \n",
       "503                      0.869307              0.0721002   \n",
       "504                      0.174257             -0.0168095   \n",
       "\n",
       "    One-Month Return Percentile HQM Score  \n",
       "0                      0.819802  0.778713  \n",
       "1                      0.994059  0.485149  \n",
       "2                      0.809901  0.437129  \n",
       "3                      0.689109  0.788614  \n",
       "4                           0.6   0.55297  \n",
       "..                          ...       ...  \n",
       "500                     0.60396  0.604455  \n",
       "501                    0.524752  0.452475  \n",
       "502                    0.556436  0.811881  \n",
       "503                    0.710891  0.525743  \n",
       "504                    0.180198  0.391584  \n",
       "\n",
       "[505 rows x 12 columns]"
      ],
      "text/html": "<div>\n<style scoped>\n    .dataframe tbody tr th:only-of-type {\n        vertical-align: middle;\n    }\n\n    .dataframe tbody tr th {\n        vertical-align: top;\n    }\n\n    .dataframe thead th {\n        text-align: right;\n    }\n</style>\n<table border=\"1\" class=\"dataframe\">\n  <thead>\n    <tr style=\"text-align: right;\">\n      <th></th>\n      <th>Ticker</th>\n      <th>Price</th>\n      <th>Number of Shares to Buy</th>\n      <th>One-Year Price Return</th>\n      <th>One-Year Return Percentile</th>\n      <th>Six-Month Price Return</th>\n      <th>Six-Month Return Percentile</th>\n      <th>Three-Month Price Return</th>\n      <th>Three-Month Return Percentile</th>\n      <th>One-Month Price Return</th>\n      <th>One-Month Return Percentile</th>\n      <th>HQM Score</th>\n    </tr>\n  </thead>\n  <tbody>\n    <tr>\n      <th>0</th>\n      <td>A</td>\n      <td>119.400</td>\n      <td>16</td>\n      <td>0.434254</td>\n      <td>0.877228</td>\n      <td>0.358017</td>\n      <td>0.740594</td>\n      <td>0.20654</td>\n      <td>0.677228</td>\n      <td>0.101368</td>\n      <td>0.819802</td>\n      <td>0.778713</td>\n    </tr>\n    <tr>\n      <th>1</th>\n      <td>AAL</td>\n      <td>16.590</td>\n      <td>119</td>\n      <td>-0.429068</td>\n      <td>0.0257426</td>\n      <td>0.0324183</td>\n      <td>0.148515</td>\n      <td>0.252832</td>\n      <td>0.772277</td>\n      <td>0.29854</td>\n      <td>0.994059</td>\n      <td>0.485149</td>\n    </tr>\n    <tr>\n      <th>2</th>\n      <td>AAP</td>\n      <td>162.100</td>\n      <td>12</td>\n      <td>0.0312817</td>\n      <td>0.427723</td>\n      <td>0.108424</td>\n      <td>0.289109</td>\n      <td>0.0433163</td>\n      <td>0.221782</td>\n      <td>0.0982118</td>\n      <td>0.809901</td>\n      <td>0.437129</td>\n    </tr>\n    <tr>\n      <th>3</th>\n      <td>AAPL</td>\n      <td>128.193</td>\n      <td>15</td>\n      <td>0.832267</td>\n      <td>0.970297</td>\n      <td>0.459108</td>\n      <td>0.861386</td>\n      <td>0.187845</td>\n      <td>0.633663</td>\n      <td>0.0688552</td>\n      <td>0.689109</td>\n      <td>0.788614</td>\n    </tr>\n    <tr>\n      <th>4</th>\n      <td>ABBV</td>\n      <td>105.130</td>\n      <td>18</td>\n      <td>0.242231</td>\n      <td>0.712871</td>\n      <td>0.113291</td>\n      <td>0.293069</td>\n      <td>0.17931</td>\n      <td>0.605941</td>\n      <td>0.0489911</td>\n      <td>0.6</td>\n      <td>0.55297</td>\n    </tr>\n    <tr>\n      <th>...</th>\n      <td>...</td>\n      <td>...</td>\n      <td>...</td>\n      <td>...</td>\n      <td>...</td>\n      <td>...</td>\n      <td>...</td>\n      <td>...</td>\n      <td>...</td>\n      <td>...</td>\n      <td>...</td>\n      <td>...</td>\n    </tr>\n    <tr>\n      <th>500</th>\n      <td>YUM</td>\n      <td>110.100</td>\n      <td>17</td>\n      <td>0.125092</td>\n      <td>0.556436</td>\n      <td>0.260835</td>\n      <td>0.59802</td>\n      <td>0.20127</td>\n      <td>0.659406</td>\n      <td>0.0494675</td>\n      <td>0.60396</td>\n      <td>0.604455</td>\n    </tr>\n    <tr>\n      <th>501</th>\n      <td>ZBH</td>\n      <td>153.400</td>\n      <td>12</td>\n      <td>0.0290649</td>\n      <td>0.425743</td>\n      <td>0.213124</td>\n      <td>0.491089</td>\n      <td>0.0990707</td>\n      <td>0.368317</td>\n      <td>0.0377896</td>\n      <td>0.524752</td>\n      <td>0.452475</td>\n    </tr>\n    <tr>\n      <th>502</th>\n      <td>ZBRA</td>\n      <td>379.000</td>\n      <td>5</td>\n      <td>0.491694</td>\n      <td>0.906931</td>\n      <td>0.4311</td>\n      <td>0.827723</td>\n      <td>0.46944</td>\n      <td>0.956436</td>\n      <td>0.0424493</td>\n      <td>0.556436</td>\n      <td>0.811881</td>\n    </tr>\n    <tr>\n      <th>503</th>\n      <td>ZION</td>\n      <td>41.820</td>\n      <td>47</td>\n      <td>-0.173166</td>\n      <td>0.150495</td>\n      <td>0.160576</td>\n      <td>0.372277</td>\n      <td>0.319579</td>\n      <td>0.869307</td>\n      <td>0.0721002</td>\n      <td>0.710891</td>\n      <td>0.525743</td>\n    </tr>\n    <tr>\n      <th>504</th>\n      <td>ZTS</td>\n      <td>168.000</td>\n      <td>11</td>\n      <td>0.280834</td>\n      <td>0.768317</td>\n      <td>0.196355</td>\n      <td>0.443564</td>\n      <td>0.0186694</td>\n      <td>0.174257</td>\n      <td>-0.0168095</td>\n      <td>0.180198</td>\n      <td>0.391584</td>\n    </tr>\n  </tbody>\n</table>\n<p>505 rows × 12 columns</p>\n</div>"
     },
     "metadata": {},
     "execution_count": 18
    }
   ],
   "source": [
    "position_size = float(portfolio_size)/len(hqm_dataframe.index)\n",
    "for i in hqm_dataframe.index:\n",
    "    hqm_dataframe.loc[i, 'Number of Shares to Buy'] = math.floor(position_size/hqm_dataframe.loc[i, 'Price'])\n",
    "hqm_dataframe"
   ]
  },
  {
   "cell_type": "markdown",
   "metadata": {},
   "source": [
    "## Formatting Our Excel Output\n",
    "\n",
    "We will be using the XlsxWriter library for Python to create nicely-formatted Excel files.\n",
    "\n",
    "XlsxWriter is an excellent package and offers tons of customization. However, the tradeoff for this is that the library can seem very complicated to new users. Accordingly, this section will be fairly long because I want to do a good job of explaining how XlsxWriter works."
   ]
  },
  {
   "cell_type": "code",
   "execution_count": 26,
   "metadata": {},
   "outputs": [],
   "source": [
    "writer = pd.ExcelWriter('momentum_strategy.xlsx', engine='xlsxwriter')\n",
    "hqm_dataframe.to_excel(writer, sheet_name = \"Momentum Strategy\", index = False)"
   ]
  },
  {
   "cell_type": "markdown",
   "metadata": {},
   "source": [
    "## Creating the Formats We'll Need For Our .xlsx File\n",
    "\n",
    "You'll recall from our first project that formats include colors, fonts, and also symbols like % and $. We'll need four main formats for our Excel document:\n",
    "\n",
    "* String format for tickers\n",
    "* \\$XX.XX format for stock prices\n",
    "* \\$XX,XXX format for market capitalization\n",
    "* Integer format for the number of shares to purchase\n",
    "\n",
    "Since we already built our formats in the last section of this course, I've included them below for you. Run this code cell before proceeding."
   ]
  },
  {
   "cell_type": "code",
   "execution_count": 27,
   "metadata": {},
   "outputs": [],
   "source": [
    "background_color = '#0a0a23'\n",
    "font_color = '#ffffff'\n",
    "\n",
    "string_template = writer.book.add_format(\n",
    "        {\n",
    "            'font_color': font_color,\n",
    "            'bg_color': background_color,\n",
    "            'border': 1\n",
    "        }\n",
    "    )\n",
    "\n",
    "dollar_template = writer.book.add_format(\n",
    "        {\n",
    "            'num_format':'$0.00',\n",
    "            'font_color': font_color,\n",
    "            'bg_color': background_color,\n",
    "            'border': 1\n",
    "        }\n",
    "    )\n",
    "\n",
    "integer_template = writer.book.add_format(\n",
    "        {\n",
    "            'num_format':'0',\n",
    "            'font_color': font_color,\n",
    "            'bg_color': background_color,\n",
    "            'border': 1\n",
    "        }\n",
    "    )\n",
    "\n",
    "percent_template = writer.book.add_format(\n",
    "        {\n",
    "            'num_format':'0.0%',\n",
    "            'font_color': font_color,\n",
    "            'bg_color': background_color,\n",
    "            'border': 1\n",
    "        }\n",
    "    )"
   ]
  },
  {
   "cell_type": "code",
   "execution_count": 28,
   "metadata": {},
   "outputs": [],
   "source": [
    "column_formats = {\n",
    "    'A': ['Ticker', string_template],\n",
    "    'B': ['Price', dollar_template],\n",
    "    'C': ['Number of Shares to Buy', integer_template],\n",
    "    'D': ['One-Year Price Return', percent_template],\n",
    "    'E': ['One-Year Return Percentile', percent_template],\n",
    "    'F': ['Six-Month Price Return', percent_template],\n",
    "    'G': ['Six-Month Return Percentile', percent_template],\n",
    "    'H': ['Three-Month Price Return', percent_template],\n",
    "    'I': ['Three-Month Return Percentile', percent_template],\n",
    "    'J': ['One-Month Price Return', percent_template],\n",
    "    'K': ['One-Month Return Percentile', percent_template],\n",
    "    'L': ['HQM Score', percent_template]\n",
    "}\n",
    "\n",
    "for column in column_formats.keys():\n",
    "    writer.sheets['Momentum Strategy'].set_column( f'{column}:{column}', 25, column_formats[column][1])\n",
    "    writer.sheets['Momentum Strategy'].write(f'{column}1', column_formats[column][0], column_formats[column][1])"
   ]
  },
  {
   "cell_type": "markdown",
   "metadata": {},
   "source": [
    "## Saving Our Excel Output\n",
    "\n",
    "As before, saving our Excel output is very easy:"
   ]
  },
  {
   "cell_type": "code",
   "execution_count": 29,
   "metadata": {},
   "outputs": [],
   "source": [
    "writer.save()"
   ]
  },
  {
   "cell_type": "code",
   "execution_count": null,
   "metadata": {},
   "outputs": [],
   "source": []
  }
 ],
 "metadata": {
  "kernelspec": {
   "display_name": "Python 3",
   "language": "python",
   "name": "python3"
  },
  "language_info": {
   "codemirror_mode": {
    "name": "ipython",
    "version": 3
   },
   "file_extension": ".py",
   "mimetype": "text/x-python",
   "name": "python",
   "nbconvert_exporter": "python",
   "pygments_lexer": "ipython3",
   "version": "3.8.4-final"
  }
 },
 "nbformat": 4,
 "nbformat_minor": 4
}